{
  "nbformat": 4,
  "nbformat_minor": 0,
  "metadata": {
    "colab": {
      "provenance": [],
      "mount_file_id": "1P8SMMWujpJQajL5AR-qX_QvgaFWAmINT",
      "authorship_tag": "ABX9TyPkFz8cEZbjutQbmBw3vtyH",
      "include_colab_link": true
    },
    "kernelspec": {
      "name": "python3",
      "display_name": "Python 3"
    },
    "language_info": {
      "name": "python"
    }
  },
  "cells": [
    {
      "cell_type": "markdown",
      "metadata": {
        "id": "view-in-github",
        "colab_type": "text"
      },
      "source": [
        "<a href=\"https://colab.research.google.com/github/AliValizade/Machine_Learning/blob/main/ML_41.ipynb\" target=\"_parent\"><img src=\"https://colab.research.google.com/assets/colab-badge.svg\" alt=\"Open In Colab\"/></a>"
      ]
    },
    {
      "cell_type": "code",
      "execution_count": 40,
      "metadata": {
        "id": "5aN5SleD0rcg"
      },
      "outputs": [],
      "source": [
        "import numpy as np\n",
        "import matplotlib.pyplot as plt"
      ]
    },
    {
      "cell_type": "code",
      "source": [
        "n = 100\n",
        "apple_width = np.random.normal(6, 1, n)\n",
        "apple_lenght = np.random.normal(7, 1, n)\n",
        "banana_width = np.random.normal(3, 1, n)\n",
        "banana_lenght = np.random.normal(10, 1, n)\n",
        "watermelon_width = np.random.normal(15, 1, n)\n",
        "watermelon_lenght = np.random.normal(20, 1, n)"
      ],
      "metadata": {
        "id": "KETjYcF91M4F"
      },
      "execution_count": 48,
      "outputs": []
    },
    {
      "cell_type": "code",
      "source": [
        "plt.scatter(apple_width, apple_lenght, c='red', marker='.')\n",
        "plt.scatter(banana_width, banana_lenght, c='orange', marker='.')\n",
        "plt.scatter(watermelon_width, watermelon_lenght, c='blue', marker='.')\n",
        "\n",
        "plt.title('Apple and Banana')\n",
        "plt.xlabel('width')\n",
        "plt.ylabel('lenght')\n",
        "plt.show()"
      ],
      "metadata": {
        "colab": {
          "base_uri": "https://localhost:8080/",
          "height": 472
        },
        "id": "yP8Ekncj1y4O",
        "outputId": "843fa2a9-1826-486f-9032-78f24eb0989a"
      },
      "execution_count": 50,
      "outputs": [
        {
          "output_type": "display_data",
          "data": {
            "text/plain": [
              "<Figure size 640x480 with 1 Axes>"
            ],
            "image/png": "[encoded data removed]"
          },
          "metadata": {}
        }
      ]
    },
    {
      "cell_type": "markdown",
      "source": [
        "# KNN (K Nearest Neigber)\n",
        "\n",
        "- Apple : 0\n",
        "- Banana : 1\n",
        "- watermelon : 2"
      ],
      "metadata": {
        "id": "SIN2wxd08lPM"
      }
    },
    {
      "cell_type": "markdown",
      "source": [],
      "metadata": {
        "id": "8qIZ83Kl8lMg"
      }
    },
    {
      "cell_type": "code",
      "source": [
        "width = np.concatenate((apple_width, banana_width, watermelon_width))\n",
        "lenght = np.concatenate((apple_lenght, banana_lenght, watermelon_lenght))\n",
        "X_train = np.array([width, lenght]).T\n",
        "X_train"
      ],
      "metadata": {
        "id": "zJ9qclLY2_Fj"
      },
      "execution_count": null,
      "outputs": []
    },
    {
      "cell_type": "code",
      "source": [
        "Y_apple =  np.zeros(n, dtype='int')\n",
        "Y_banana = np.ones(n, dtype='int')\n",
        "Y_watermelon = np.ones(n, dtype='int') * 2\n",
        "Y_train = np.concatenate((Y_apple, Y_banana, Y_watermelon))\n",
        "Y_train"
      ],
      "metadata": {
        "id": "WcTh30MW-UEC",
        "colab": {
          "base_uri": "https://localhost:8080/"
        },
        "outputId": "42858fe8-9b50-4fc4-9fcd-dead26d4d22a"
      },
      "execution_count": 52,
      "outputs": [
        {
          "output_type": "execute_result",
          "data": {
            "text/plain": [
              "array([0, 0, 0, 0, 0, 0, 0, 0, 0, 0, 0, 0, 0, 0, 0, 0, 0, 0, 0, 0, 0, 0,\n",
              "       0, 0, 0, 0, 0, 0, 0, 0, 0, 0, 0, 0, 0, 0, 0, 0, 0, 0, 0, 0, 0, 0,\n",
              "       0, 0, 0, 0, 0, 0, 0, 0, 0, 0, 0, 0, 0, 0, 0, 0, 0, 0, 0, 0, 0, 0,\n",
              "       0, 0, 0, 0, 0, 0, 0, 0, 0, 0, 0, 0, 0, 0, 0, 0, 0, 0, 0, 0, 0, 0,\n",
              "       0, 0, 0, 0, 0, 0, 0, 0, 0, 0, 0, 0, 1, 1, 1, 1, 1, 1, 1, 1, 1, 1,\n",
              "       1, 1, 1, 1, 1, 1, 1, 1, 1, 1, 1, 1, 1, 1, 1, 1, 1, 1, 1, 1, 1, 1,\n",
              "       1, 1, 1, 1, 1, 1, 1, 1, 1, 1, 1, 1, 1, 1, 1, 1, 1, 1, 1, 1, 1, 1,\n",
              "       1, 1, 1, 1, 1, 1, 1, 1, 1, 1, 1, 1, 1, 1, 1, 1, 1, 1, 1, 1, 1, 1,\n",
              "       1, 1, 1, 1, 1, 1, 1, 1, 1, 1, 1, 1, 1, 1, 1, 1, 1, 1, 1, 1, 1, 1,\n",
              "       1, 1, 2, 2, 2, 2, 2, 2, 2, 2, 2, 2, 2, 2, 2, 2, 2, 2, 2, 2, 2, 2,\n",
              "       2, 2, 2, 2, 2, 2, 2, 2, 2, 2, 2, 2, 2, 2, 2, 2, 2, 2, 2, 2, 2, 2,\n",
              "       2, 2, 2, 2, 2, 2, 2, 2, 2, 2, 2, 2, 2, 2, 2, 2, 2, 2, 2, 2, 2, 2,\n",
              "       2, 2, 2, 2, 2, 2, 2, 2, 2, 2, 2, 2, 2, 2, 2, 2, 2, 2, 2, 2, 2, 2,\n",
              "       2, 2, 2, 2, 2, 2, 2, 2, 2, 2, 2, 2, 2, 2])"
            ]
          },
          "metadata": {},
          "execution_count": 52
        }
      ]
    },
    {
      "cell_type": "code",
      "source": [
        "def euqlidian_distance(x1, x2):\n",
        "  return np.sqrt(np.sum((x1 - x2)**2))"
      ],
      "metadata": {
        "id": "Emrx-wB__bUf"
      },
      "execution_count": 53,
      "outputs": []
    },
    {
      "cell_type": "code",
      "source": [
        "new_fruit = np.array([12, 16])\n",
        "\n",
        "distances = []\n",
        "for x in X_train:\n",
        "  d = euqlidian_distance(new_fruit, x)\n",
        "  distances.append(d)"
      ],
      "metadata": {
        "id": "W7BQeZSITi-m"
      },
      "execution_count": 54,
      "outputs": []
    },
    {
      "cell_type": "code",
      "source": [
        "k = 7"
      ],
      "metadata": {
        "id": "qkqaIMjfwk2K"
      },
      "execution_count": 55,
      "outputs": []
    },
    {
      "cell_type": "code",
      "source": [
        "np.sort(distances)"
      ],
      "metadata": {
        "id": "tehqN3JYwsJy"
      },
      "execution_count": null,
      "outputs": []
    },
    {
      "cell_type": "code",
      "source": [
        "nearest_neighbors = np.argsort(distances)[0:k]"
      ],
      "metadata": {
        "id": "D6JHd3A9w0wQ"
      },
      "execution_count": 57,
      "outputs": []
    },
    {
      "cell_type": "code",
      "source": [
        "Y_train[nearest_neighbors]"
      ],
      "metadata": {
        "colab": {
          "base_uri": "https://localhost:8080/"
        },
        "id": "Y2zjH0ACyGkS",
        "outputId": "93850909-2185-4611-a623-c4c8611b96a8"
      },
      "execution_count": 58,
      "outputs": [
        {
          "output_type": "execute_result",
          "data": {
            "text/plain": [
              "array([2, 2, 2, 2, 2, 2, 2])"
            ]
          },
          "metadata": {},
          "execution_count": 58
        }
      ]
    },
    {
      "cell_type": "code",
      "source": [
        "result = np.bincount(Y_train[nearest_neighbors])\n",
        "result"
      ],
      "metadata": {
        "colab": {
          "base_uri": "https://localhost:8080/"
        },
        "id": "ulb9m6jkCLSm",
        "outputId": "748f6c99-a836-4f88-ac23-f9657578e82d"
      },
      "execution_count": 59,
      "outputs": [
        {
          "output_type": "execute_result",
          "data": {
            "text/plain": [
              "array([0, 0, 7])"
            ]
          },
          "metadata": {},
          "execution_count": 59
        }
      ]
    },
    {
      "cell_type": "code",
      "source": [
        "if np.argmax(result) == 0:\n",
        "  print('Apple🍎')\n",
        "elif np.argmax(result) == 1:\n",
        "  print('Banana🍌')\n",
        "else:\n",
        "  print('Watermelon🍉')"
      ],
      "metadata": {
        "colab": {
          "base_uri": "https://localhost:8080/"
        },
        "id": "SA-3JwpmDDVR",
        "outputId": "19326f04-4e05-4ab5-cb69-e396db6b5ca4"
      },
      "execution_count": 60,
      "outputs": [
        {
          "output_type": "stream",
          "name": "stdout",
          "text": [
            "Watermelon🍉\n"
          ]
        }
      ]
    }
  ]
}