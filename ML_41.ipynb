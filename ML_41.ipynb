{
  "nbformat": 4,
  "nbformat_minor": 0,
  "metadata": {
    "colab": {
      "provenance": [],
      "mount_file_id": "1P8SMMWujpJQajL5AR-qX_QvgaFWAmINT",
      "authorship_tag": "ABX9TyMGnDZJLt39qVUpi7pvIBGu",
      "include_colab_link": true
    },
    "kernelspec": {
      "name": "python3",
      "display_name": "Python 3"
    },
    "language_info": {
      "name": "python"
    }
  },
  "cells": [
    {
      "cell_type": "markdown",
      "metadata": {
        "id": "view-in-github",
        "colab_type": "text"
      },
      "source": [
        "<a href=\"https://colab.research.google.com/github/AliValizade/Machine_Learning/blob/main/ML_41.ipynb\" target=\"_parent\"><img src=\"https://colab.research.google.com/assets/colab-badge.svg\" alt=\"Open In Colab\"/></a>"
      ]
    },
    {
      "cell_type": "code",
      "execution_count": 1,
      "metadata": {
        "id": "5aN5SleD0rcg"
      },
      "outputs": [],
      "source": [
        "import numpy as np\n",
        "import matplotlib.pyplot as plt"
      ]
    },
    {
      "cell_type": "markdown",
      "source": [
        "# KNN (K Nearest Neigber)\n",
        "\n",
        "- Apple : 0\n",
        "- Banana : 1\n",
        "- watermelon : 2\n",
        "\n",
        "<img src=\"https://fruityland.co/wp-content/uploads/2021/01/Granny-smith-green-apple-FL.jpg\" width=\"200px\" height=\"180px\">\n",
        "\n",
        "<img src=\"https://target.scene7.com/is/image/Target/GUEST_cf4773e6-afec-4aa1-89e7-74b7dfc09973?wid=1200&hei=1200&qlt=80&fmt=webp\" width=\"200px\" height=\"180px\">\n",
        "\n",
        "<img src=\"https://starfishmarket.com/wp-content/uploads/2015/11/watermelon-580x437.jpg\" width=\"200px\" height=\"180px\">\n"
      ],
      "metadata": {
        "id": "r-T5_LJN7W8k"
      }
    },
    {
      "cell_type": "code",
      "source": [
        "n = 100\n",
        "apple_width = np.random.normal(6, 1, n)\n",
        "apple_lenght = np.random.normal(7, 1, n)\n",
        "banana_width = np.random.normal(3, 1, n)\n",
        "banana_lenght = np.random.normal(10, 1, n)\n",
        "watermelon_width = np.random.normal(13, 1, n)\n",
        "watermelon_lenght = np.random.normal(20, 1, n)"
      ],
      "metadata": {
        "id": "KETjYcF91M4F"
      },
      "execution_count": 37,
      "outputs": []
    },
    {
      "cell_type": "code",
      "source": [
        "plt.scatter(apple_width, apple_lenght, c='red', marker='.')\n",
        "plt.scatter(banana_width, banana_lenght, c='orange', marker='.')\n",
        "plt.scatter(watermelon_width, watermelon_lenght, c='blue', marker='.')\n",
        "\n",
        "plt.title('Apple and Banana')\n",
        "plt.xlabel('width')\n",
        "plt.ylabel('lenght')\n",
        "plt.show()"
      ],
      "metadata": {
        "colab": {
          "base_uri": "https://localhost:8080/",
          "height": 472
        },
        "id": "yP8Ekncj1y4O",
        "outputId": "49936964-0c27-49b4-b22f-d2a7796bd37d"
      },
      "execution_count": 38,
      "outputs": [
        {
          "output_type": "display_data",
          "data": {
            "text/plain": [
              "<Figure size 640x480 with 1 Axes>"
            ],
            "image/png": "[encoded data removed]"
          },
          "metadata": {}
        }
      ]
    },
    {
      "cell_type": "markdown",
      "source": [],
      "metadata": {
        "id": "8qIZ83Kl8lMg"
      }
    },
    {
      "cell_type": "code",
      "source": [
        "width = np.concatenate((apple_width, banana_width, watermelon_width))\n",
        "lenght = np.concatenate((apple_lenght, banana_lenght, watermelon_lenght))\n",
        "X_train = np.array([width, lenght]).T"
      ],
      "metadata": {
        "id": "zJ9qclLY2_Fj"
      },
      "execution_count": 4,
      "outputs": []
    },
    {
      "cell_type": "code",
      "source": [
        "Y_apple =  np.zeros(n, dtype='int')\n",
        "Y_banana = np.ones(n, dtype='int')\n",
        "Y_watermelon = np.ones(n, dtype='int') * 2\n",
        "Y_train = np.concatenate((Y_apple, Y_banana, Y_watermelon))"
      ],
      "metadata": {
        "id": "WcTh30MW-UEC"
      },
      "execution_count": 5,
      "outputs": []
    },
    {
      "cell_type": "code",
      "source": [
        "def euqlidian_distance(x1, x2):\n",
        "  return np.sqrt(np.sum((x1 - x2)**2))"
      ],
      "metadata": {
        "id": "Emrx-wB__bUf"
      },
      "execution_count": 6,
      "outputs": []
    },
    {
      "cell_type": "code",
      "source": [
        "new_fruit = np.array([9, 15])\n",
        "\n",
        "distances = []\n",
        "for x in X_train:\n",
        "  d = euqlidian_distance(new_fruit, x)\n",
        "  distances.append(d)"
      ],
      "metadata": {
        "id": "W7BQeZSITi-m"
      },
      "execution_count": 31,
      "outputs": []
    },
    {
      "cell_type": "code",
      "source": [
        "k = 7"
      ],
      "metadata": {
        "id": "qkqaIMjfwk2K"
      },
      "execution_count": 32,
      "outputs": []
    },
    {
      "cell_type": "code",
      "source": [
        "nearest_neighbors = np.argsort(distances)[0:k]"
      ],
      "metadata": {
        "id": "D6JHd3A9w0wQ"
      },
      "execution_count": 33,
      "outputs": []
    },
    {
      "cell_type": "code",
      "source": [
        "Y_train[nearest_neighbors]"
      ],
      "metadata": {
        "colab": {
          "base_uri": "https://localhost:8080/"
        },
        "id": "Y2zjH0ACyGkS",
        "outputId": "9c26e9aa-0ad2-4222-820d-b9d7cf4a1cba"
      },
      "execution_count": 34,
      "outputs": [
        {
          "output_type": "execute_result",
          "data": {
            "text/plain": [
              "array([1, 1, 2, 2, 1, 2, 2])"
            ]
          },
          "metadata": {},
          "execution_count": 34
        }
      ]
    },
    {
      "cell_type": "code",
      "source": [
        "result = np.bincount(Y_train[nearest_neighbors])\n",
        "result"
      ],
      "metadata": {
        "colab": {
          "base_uri": "https://localhost:8080/"
        },
        "id": "ulb9m6jkCLSm",
        "outputId": "2e6a61df-9d39-4b76-cd3e-54baec303892"
      },
      "execution_count": 35,
      "outputs": [
        {
          "output_type": "execute_result",
          "data": {
            "text/plain": [
              "array([0, 3, 4])"
            ]
          },
          "metadata": {},
          "execution_count": 35
        }
      ]
    },
    {
      "cell_type": "code",
      "source": [
        "if np.argmax(result) == 0:\n",
        "  print('Apple🍎')\n",
        "elif np.argmax(result) == 1:\n",
        "  print('Banana🍌')\n",
        "else:\n",
        "  print('Watermelon🍉')"
      ],
      "metadata": {
        "colab": {
          "base_uri": "https://localhost:8080/"
        },
        "id": "SA-3JwpmDDVR",
        "outputId": "3dbd08e7-c9f5-4643-f32a-70f896972496"
      },
      "execution_count": 36,
      "outputs": [
        {
          "output_type": "stream",
          "name": "stdout",
          "text": [
            "Watermelon🍉\n"
          ]
        }
      ]
    }
  ]
}