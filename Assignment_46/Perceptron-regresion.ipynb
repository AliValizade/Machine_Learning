{
 "cells": [
  {
   "cell_type": "code",
   "execution_count": 10,
   "metadata": {},
   "outputs": [],
   "source": [
    "%matplotlib Qt\n",
    "# %matplotlib inline"
   ]
  },
  {
   "cell_type": "code",
   "execution_count": 11,
   "metadata": {},
   "outputs": [],
   "source": [
    "import numpy as np\n",
    "import pandas as pd\n",
    "import matplotlib.pyplot as plt\n",
    "\n",
    "from sklearn.model_selection import train_test_split"
   ]
  },
  {
   "cell_type": "code",
   "execution_count": 12,
   "metadata": {},
   "outputs": [
    {
     "data": {
      "text/html": [
       "<div>\n",
       "<style scoped>\n",
       "    .dataframe tbody tr th:only-of-type {\n",
       "        vertical-align: middle;\n",
       "    }\n",
       "\n",
       "    .dataframe tbody tr th {\n",
       "        vertical-align: top;\n",
       "    }\n",
       "\n",
       "    .dataframe thead th {\n",
       "        text-align: right;\n",
       "    }\n",
       "</style>\n",
       "<table border=\"1\" class=\"dataframe\">\n",
       "  <thead>\n",
       "    <tr style=\"text-align: right;\">\n",
       "      <th></th>\n",
       "      <th>Gender</th>\n",
       "      <th>Height</th>\n",
       "      <th>Weight</th>\n",
       "    </tr>\n",
       "  </thead>\n",
       "  <tbody>\n",
       "    <tr>\n",
       "      <th>0</th>\n",
       "      <td>Male</td>\n",
       "      <td>73.847017</td>\n",
       "      <td>241.893563</td>\n",
       "    </tr>\n",
       "    <tr>\n",
       "      <th>1</th>\n",
       "      <td>Male</td>\n",
       "      <td>68.781904</td>\n",
       "      <td>162.310473</td>\n",
       "    </tr>\n",
       "    <tr>\n",
       "      <th>2</th>\n",
       "      <td>Male</td>\n",
       "      <td>74.110105</td>\n",
       "      <td>212.740856</td>\n",
       "    </tr>\n",
       "    <tr>\n",
       "      <th>3</th>\n",
       "      <td>Male</td>\n",
       "      <td>71.730978</td>\n",
       "      <td>220.042470</td>\n",
       "    </tr>\n",
       "    <tr>\n",
       "      <th>4</th>\n",
       "      <td>Male</td>\n",
       "      <td>69.881796</td>\n",
       "      <td>206.349801</td>\n",
       "    </tr>\n",
       "  </tbody>\n",
       "</table>\n",
       "</div>"
      ],
      "text/plain": [
       "  Gender     Height      Weight\n",
       "0   Male  73.847017  241.893563\n",
       "1   Male  68.781904  162.310473\n",
       "2   Male  74.110105  212.740856\n",
       "3   Male  71.730978  220.042470\n",
       "4   Male  69.881796  206.349801"
      ]
     },
     "execution_count": 12,
     "metadata": {},
     "output_type": "execute_result"
    }
   ],
   "source": [
    "data = pd.read_csv('data/weight-height.csv')\n",
    "data.head()"
   ]
  },
  {
   "cell_type": "code",
   "execution_count": 13,
   "metadata": {},
   "outputs": [],
   "source": [
    "X = data[['Height']].values\n",
    "Y = data[['Weight']].values\n",
    "\n",
    "X = (X - np.mean(X)) / np.std(X)\n",
    "Y = (Y - np.mean(Y)) / np.std(Y)\n"
   ]
  },
  {
   "cell_type": "code",
   "execution_count": 14,
   "metadata": {},
   "outputs": [],
   "source": [
    "X_train, X_test, Y_train, Y_test = train_test_split(X, Y, test_size=0.99, shuffle=True)"
   ]
  },
  {
   "cell_type": "code",
   "execution_count": 15,
   "metadata": {},
   "outputs": [],
   "source": [
    "w = np.random.rand(1, 1)\n",
    "b = np.random.rand(1, 1)"
   ]
  },
  {
   "cell_type": "code",
   "execution_count": 16,
   "metadata": {},
   "outputs": [],
   "source": [
    "learning_rate_w = 0.001\n",
    "learning_rate_b = 0.01\n",
    "Epoch = 0\n",
    "stop_condition = 1\n",
    "loss_threshold = 0.29  # Threshold for stopping condition"
   ]
  },
  {
   "cell_type": "code",
   "execution_count": 17,
   "metadata": {},
   "outputs": [],
   "source": [
    "fig, (ax1, ax2) = plt.subplots(1, 2)\n",
    "losses = []"
   ]
  },
  {
   "cell_type": "code",
   "execution_count": 18,
   "metadata": {},
   "outputs": [],
   "source": [
    "while stop_condition:\n",
    "    Epoch += 1\n",
    "    epoch_losses = []  # List to store losses for the current epoch\n",
    "    for i in range(X_train.shape[0]):\n",
    "        x = X_train[i]\n",
    "        y = Y_train[i]\n",
    "\n",
    "        y_pred = x * w + b\n",
    "\n",
    "        error = y - y_pred\n",
    "\n",
    "        # SGD Update\n",
    "        w = w + (error * x * learning_rate_w)\n",
    "        b = b + (error * learning_rate_b)\n",
    "\n",
    "        # MAE\n",
    "        loss = np.mean(np.abs(error))\n",
    "        epoch_losses.append(loss)\n",
    "\n",
    "        Y_pred = X_train * w + b\n",
    "\n",
    "        ax1.clear()\n",
    "        ax1.scatter(X_train, Y_train)\n",
    "        ax1.plot(X_train, Y_pred, color='red')\n",
    "\n",
    "        ax2.clear()\n",
    "        ax2.plot(losses)\n",
    "\n",
    "        ax1.set_title(f\"Perceptron's training algorithm, Epoch = {Epoch}\")\n",
    "        plt.pause(0.01)\n",
    "    \n",
    "    # Calculate the mean loss for the current epoch\n",
    "    mean_loss = np.mean(epoch_losses)\n",
    "    losses.append(mean_loss)\n",
    "\n",
    "    # Check stopping condition\n",
    "    if mean_loss < loss_threshold:\n",
    "        stop_condition = 0\n",
    "\n",
    "fig.savefig('data/regresion-with-perceptron.png')\n",
    "\n",
    "print(f\"Training stopped at Epoch {Epoch} with loss {loss}\")"
   ]
  }
 ],
 "metadata": {
  "kernelspec": {
   "display_name": "Python 3",
   "language": "python",
   "name": "python3"
  },
  "language_info": {
   "codemirror_mode": {
    "name": "ipython",
    "version": 3
   },
   "file_extension": ".py",
   "mimetype": "text/x-python",
   "name": "python",
   "nbconvert_exporter": "python",
   "pygments_lexer": "ipython3",
   "version": "3.10.11"
  }
 },
 "nbformat": 4,
 "nbformat_minor": 2
}
