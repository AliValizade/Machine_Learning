{
 "cells": [
  {
   "cell_type": "code",
   "execution_count": 12,
   "metadata": {},
   "outputs": [],
   "source": [
    "%matplotlib Qt\n",
    "# %matplotlib inline"
   ]
  },
  {
   "cell_type": "code",
   "execution_count": 13,
   "metadata": {},
   "outputs": [],
   "source": [
    "import numpy as np\n",
    "import pandas as pd\n",
    "import matplotlib.pyplot as plt\n",
    "\n",
    "from sklearn.model_selection import train_test_split\n",
    "\n",
    "from modules import Perceptron"
   ]
  },
  {
   "cell_type": "code",
   "execution_count": 14,
   "metadata": {},
   "outputs": [
    {
     "data": {
      "text/html": [
       "<div>\n",
       "<style scoped>\n",
       "    .dataframe tbody tr th:only-of-type {\n",
       "        vertical-align: middle;\n",
       "    }\n",
       "\n",
       "    .dataframe tbody tr th {\n",
       "        vertical-align: top;\n",
       "    }\n",
       "\n",
       "    .dataframe thead th {\n",
       "        text-align: right;\n",
       "    }\n",
       "</style>\n",
       "<table border=\"1\" class=\"dataframe\">\n",
       "  <thead>\n",
       "    <tr style=\"text-align: right;\">\n",
       "      <th></th>\n",
       "      <th>Gender</th>\n",
       "      <th>Height</th>\n",
       "      <th>Weight</th>\n",
       "    </tr>\n",
       "  </thead>\n",
       "  <tbody>\n",
       "    <tr>\n",
       "      <th>0</th>\n",
       "      <td>Male</td>\n",
       "      <td>73.847017</td>\n",
       "      <td>241.893563</td>\n",
       "    </tr>\n",
       "    <tr>\n",
       "      <th>1</th>\n",
       "      <td>Male</td>\n",
       "      <td>68.781904</td>\n",
       "      <td>162.310473</td>\n",
       "    </tr>\n",
       "    <tr>\n",
       "      <th>2</th>\n",
       "      <td>Male</td>\n",
       "      <td>74.110105</td>\n",
       "      <td>212.740856</td>\n",
       "    </tr>\n",
       "    <tr>\n",
       "      <th>3</th>\n",
       "      <td>Male</td>\n",
       "      <td>71.730978</td>\n",
       "      <td>220.042470</td>\n",
       "    </tr>\n",
       "    <tr>\n",
       "      <th>4</th>\n",
       "      <td>Male</td>\n",
       "      <td>69.881796</td>\n",
       "      <td>206.349801</td>\n",
       "    </tr>\n",
       "  </tbody>\n",
       "</table>\n",
       "</div>"
      ],
      "text/plain": [
       "  Gender     Height      Weight\n",
       "0   Male  73.847017  241.893563\n",
       "1   Male  68.781904  162.310473\n",
       "2   Male  74.110105  212.740856\n",
       "3   Male  71.730978  220.042470\n",
       "4   Male  69.881796  206.349801"
      ]
     },
     "execution_count": 14,
     "metadata": {},
     "output_type": "execute_result"
    }
   ],
   "source": [
    "data = pd.read_csv('data/weight-height.csv')\n",
    "data.head()"
   ]
  },
  {
   "cell_type": "code",
   "execution_count": 15,
   "metadata": {},
   "outputs": [],
   "source": [
    "X = data[['Height']].values\n",
    "Y = data[['Weight']].values\n",
    "\n",
    "# Data normalization\n",
    "X = (X - np.mean(X)) / np.std(X)\n",
    "Y = (Y - np.mean(Y)) / np.std(Y)\n"
   ]
  },
  {
   "cell_type": "code",
   "execution_count": 16,
   "metadata": {},
   "outputs": [],
   "source": [
    "X_train, X_test, Y_train, Y_test = train_test_split(X, Y, test_size=0.99, shuffle=True)"
   ]
  },
  {
   "cell_type": "code",
   "execution_count": 17,
   "metadata": {},
   "outputs": [],
   "source": [
    "learning_rate_w = 0.001\n",
    "learning_rate_b = 0.01\n",
    "Epoch = 0\n",
    "stop_condition = False\n",
    "loss_threshold = 0.27  # Threshold for stopping condition"
   ]
  },
  {
   "cell_type": "code",
   "execution_count": 18,
   "metadata": {},
   "outputs": [
    {
     "name": "stdout",
     "output_type": "stream",
     "text": [
      "Epoch 2, Loss: 0.7067253553406435\n",
      "Epoch 3, Loss: 0.540101495792265\n",
      "Epoch 4, Loss: 0.4925374189938423\n",
      "Epoch 5, Loss: 0.46759143167440015\n",
      "Epoch 6, Loss: 0.4469784339098995\n",
      "Epoch 7, Loss: 0.4294418631694746\n",
      "Epoch 8, Loss: 0.41386171984843706\n",
      "Epoch 9, Loss: 0.4008190373980917\n",
      "Epoch 10, Loss: 0.3891252316098048\n",
      "Epoch 11, Loss: 0.3787975809794312\n",
      "Epoch 12, Loss: 0.3699326268275353\n",
      "Epoch 13, Loss: 0.36186529697846576\n",
      "Epoch 14, Loss: 0.3546175333404228\n",
      "Epoch 15, Loss: 0.34821212715549366\n",
      "Epoch 16, Loss: 0.34253165752947334\n",
      "Epoch 17, Loss: 0.33743515690330766\n",
      "Epoch 18, Loss: 0.3330512124163782\n",
      "Epoch 19, Loss: 0.3292865750028794\n",
      "Epoch 20, Loss: 0.32603016960678693\n",
      "Epoch 21, Loss: 0.32328642151105014\n",
      "Epoch 22, Loss: 0.3207837438221591\n",
      "Epoch 23, Loss: 0.3187141728770648\n",
      "Epoch 24, Loss: 0.3168339626934032\n",
      "Epoch 25, Loss: 0.31536308975166155\n",
      "Epoch 26, Loss: 0.3142793981128128\n",
      "Epoch 27, Loss: 0.31359646203168806\n",
      "Epoch 28, Loss: 0.31321326171477326\n",
      "Epoch 29, Loss: 0.31286373002935686\n",
      "Epoch 30, Loss: 0.31254490879213\n",
      "Epoch 31, Loss: 0.31237272276669137\n",
      "Epoch 32, Loss: 0.31222649370983385\n",
      "Epoch 33, Loss: 0.3121671099934357\n",
      "Epoch 34, Loss: 0.31212216609581545\n",
      "Epoch 35, Loss: 0.31209242710802276\n",
      "Epoch 36, Loss: 0.31206530103825775\n",
      "Epoch 37, Loss: 0.31205519140304105\n",
      "Epoch 38, Loss: 0.31206711277975807\n",
      "Epoch 39, Loss: 0.31207798672404896\n",
      "Epoch 40, Loss: 0.3120879052651072\n"
     ]
    }
   ],
   "source": [
    "# Create and train the model\n",
    "perceptron = Perceptron(input_size=1, lr_w=learning_rate_w, lr_b=learning_rate_b, epoch=Epoch, loss_threshold=loss_threshold)\n",
    "perceptron.fit(X_train, Y_train)"
   ]
  },
  {
   "cell_type": "code",
   "execution_count": 19,
   "metadata": {},
   "outputs": [
    {
     "name": "stdout",
     "output_type": "stream",
     "text": [
      "Test Loss: 0.3161368052609858\n"
     ]
    }
   ],
   "source": [
    "# Evaluate\n",
    "loss = perceptron.evaluate(X_test, Y_test)\n",
    "print(f\"Test Loss: {loss}\")"
   ]
  },
  {
   "cell_type": "code",
   "execution_count": 20,
   "metadata": {},
   "outputs": [],
   "source": [
    "# Predict\n",
    "Y_pred = perceptron.predict(X_train)\n"
   ]
  },
  {
   "cell_type": "code",
   "execution_count": 21,
   "metadata": {},
   "outputs": [],
   "source": [
    "fig, (ax1, ax2) = plt.subplots(1, 2, figsize=(12, 6))"
   ]
  },
  {
   "cell_type": "code",
   "execution_count": 22,
   "metadata": {},
   "outputs": [],
   "source": [
    "# Model prediction chart\n",
    "ax1.scatter(X_train, Y_train, label='Training Data')\n",
    "ax1.plot(X_train, Y_pred, color='red', label='Model Prediction')\n",
    "ax1.set_title('Perceptron Linear Regression')\n",
    "ax1.set_xlabel('Height')\n",
    "ax1.set_ylabel('Weight')\n",
    "ax1.legend()\n",
    "\n",
    "# Model Loss chart\n",
    "ax2.plot(perceptron.losses)\n",
    "ax2.set_title('Loss over Epochs')\n",
    "ax2.set_xlabel('Epoch')\n",
    "ax2.set_ylabel('Loss')\n",
    "\n",
    "plt.tight_layout()\n",
    "plt.show()"
   ]
  }
 ],
 "metadata": {
  "kernelspec": {
   "display_name": "Python 3",
   "language": "python",
   "name": "python3"
  },
  "language_info": {
   "codemirror_mode": {
    "name": "ipython",
    "version": 3
   },
   "file_extension": ".py",
   "mimetype": "text/x-python",
   "name": "python",
   "nbconvert_exporter": "python",
   "pygments_lexer": "ipython3",
   "version": "3.10.11"
  }
 },
 "nbformat": 4,
 "nbformat_minor": 2
}
