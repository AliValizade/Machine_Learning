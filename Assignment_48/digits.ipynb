{
  "nbformat": 4,
  "nbformat_minor": 0,
  "metadata": {
    "colab": {
      "provenance": []
    },
    "kernelspec": {
      "name": "python3",
      "display_name": "Python 3"
    },
    "language_info": {
      "name": "python"
    }
  },
  "cells": [
    {
      "cell_type": "code",
      "execution_count": 18,
      "metadata": {
        "id": "rHfHcd7HaNan"
      },
      "outputs": [],
      "source": [
        "import numpy as np\n",
        "import matplotlib.pyplot as plt\n",
        "from sklearn.datasets import load_digits\n",
        "from sklearn.model_selection import train_test_split\n",
        "from sklearn.preprocessing import OneHotEncoder"
      ]
    },
    {
      "cell_type": "code",
      "source": [
        "dataset = load_digits()"
      ],
      "metadata": {
        "id": "zcGrrwWUbcga"
      },
      "execution_count": 19,
      "outputs": []
    },
    {
      "cell_type": "code",
      "source": [
        "dataset.data.shape"
      ],
      "metadata": {
        "colab": {
          "base_uri": "https://localhost:8080/"
        },
        "id": "Qe8N06oSjAmb",
        "outputId": "94b0a6c5-c4f0-4b7d-dfaf-1a27c0862295"
      },
      "execution_count": 20,
      "outputs": [
        {
          "output_type": "execute_result",
          "data": {
            "text/plain": [
              "(1797, 64)"
            ]
          },
          "metadata": {},
          "execution_count": 20
        }
      ]
    },
    {
      "cell_type": "code",
      "source": [
        "dataset.data[100]"
      ],
      "metadata": {
        "colab": {
          "base_uri": "https://localhost:8080/"
        },
        "id": "Ukw1WeZOpink",
        "outputId": "2a049db7-8169-4961-86a7-58f784f45f97"
      },
      "execution_count": 21,
      "outputs": [
        {
          "output_type": "execute_result",
          "data": {
            "text/plain": [
              "array([ 0.,  0.,  0.,  2., 13.,  0.,  0.,  0.,  0.,  0.,  0.,  8., 15.,\n",
              "        0.,  0.,  0.,  0.,  0.,  5., 16.,  5.,  2.,  0.,  0.,  0.,  0.,\n",
              "       15., 12.,  1., 16.,  4.,  0.,  0.,  4., 16.,  2.,  9., 16.,  8.,\n",
              "        0.,  0.,  0., 10., 14., 16., 16.,  4.,  0.,  0.,  0.,  0.,  0.,\n",
              "       13.,  8.,  0.,  0.,  0.,  0.,  0.,  0., 13.,  6.,  0.,  0.])"
            ]
          },
          "metadata": {},
          "execution_count": 21
        }
      ]
    },
    {
      "cell_type": "code",
      "source": [
        "dataset.images.shape"
      ],
      "metadata": {
        "colab": {
          "base_uri": "https://localhost:8080/"
        },
        "id": "ZCis7EKAjLXi",
        "outputId": "9ae00fea-30e1-4a40-a9bb-b8f0bc177611"
      },
      "execution_count": 22,
      "outputs": [
        {
          "output_type": "execute_result",
          "data": {
            "text/plain": [
              "(1797, 8, 8)"
            ]
          },
          "metadata": {},
          "execution_count": 22
        }
      ]
    },
    {
      "cell_type": "code",
      "source": [
        "dataset.images[100]"
      ],
      "metadata": {
        "colab": {
          "base_uri": "https://localhost:8080/"
        },
        "id": "cmPWNiJ7poEJ",
        "outputId": "1fcd8615-3439-454c-a020-8f3053985420"
      },
      "execution_count": 23,
      "outputs": [
        {
          "output_type": "execute_result",
          "data": {
            "text/plain": [
              "array([[ 0.,  0.,  0.,  2., 13.,  0.,  0.,  0.],\n",
              "       [ 0.,  0.,  0.,  8., 15.,  0.,  0.,  0.],\n",
              "       [ 0.,  0.,  5., 16.,  5.,  2.,  0.,  0.],\n",
              "       [ 0.,  0., 15., 12.,  1., 16.,  4.,  0.],\n",
              "       [ 0.,  4., 16.,  2.,  9., 16.,  8.,  0.],\n",
              "       [ 0.,  0., 10., 14., 16., 16.,  4.,  0.],\n",
              "       [ 0.,  0.,  0.,  0., 13.,  8.,  0.,  0.],\n",
              "       [ 0.,  0.,  0.,  0., 13.,  6.,  0.,  0.]])"
            ]
          },
          "metadata": {},
          "execution_count": 23
        }
      ]
    },
    {
      "cell_type": "code",
      "source": [
        "dataset.target.shape"
      ],
      "metadata": {
        "colab": {
          "base_uri": "https://localhost:8080/"
        },
        "id": "KT1loo-djblk",
        "outputId": "d0d43d86-b9a9-4592-89b1-4eb9061103e5"
      },
      "execution_count": 24,
      "outputs": [
        {
          "output_type": "execute_result",
          "data": {
            "text/plain": [
              "(1797,)"
            ]
          },
          "metadata": {},
          "execution_count": 24
        }
      ]
    },
    {
      "cell_type": "code",
      "source": [
        "dataset.target[100]"
      ],
      "metadata": {
        "colab": {
          "base_uri": "https://localhost:8080/"
        },
        "id": "fNPzfWqqptZq",
        "outputId": "08c1d13a-0372-4965-d561-360c152e0603"
      },
      "execution_count": 25,
      "outputs": [
        {
          "output_type": "execute_result",
          "data": {
            "text/plain": [
              "4"
            ]
          },
          "metadata": {},
          "execution_count": 25
        }
      ]
    },
    {
      "cell_type": "code",
      "source": [
        "plt.imshow(dataset.images[100])"
      ],
      "metadata": {
        "colab": {
          "base_uri": "https://localhost:8080/",
          "height": 447
        },
        "id": "8rLA1yZOjxLF",
        "outputId": "c13458a8-6163-450c-de81-4ded348e5b50"
      },
      "execution_count": 26,
      "outputs": [
        {
          "output_type": "execute_result",
          "data": {
            "text/plain": [
              "<matplotlib.image.AxesImage at 0x79255bdc70a0>"
            ]
          },
          "metadata": {},
          "execution_count": 26
        },
        {
          "output_type": "display_data",
          "data": {
            "text/plain": [
              "<Figure size 640x480 with 1 Axes>"
            ],
            "image/png": "[encoded data removed]"
          },
          "metadata": {}
        }
      ]
    },
    {
      "cell_type": "code",
      "source": [
        "X = dataset.data\n",
        "Y = dataset.target\n",
        "print(Y)\n",
        "print('='*20)\n",
        "Y = np.eye(10)[Y]  # One hot\n",
        "print(Y)\n",
        "X_train, X_test, Y_train, Y_test = train_test_split(X, Y, test_size=0.2, shuffle=True)"
      ],
      "metadata": {
        "id": "qW6IuVODtQsl",
        "colab": {
          "base_uri": "https://localhost:8080/"
        },
        "outputId": "a31c7aea-1160-4599-975d-04a3b1f2f84d"
      },
      "execution_count": 27,
      "outputs": [
        {
          "output_type": "stream",
          "name": "stdout",
          "text": [
            "[0 1 2 ... 8 9 8]\n",
            "====================\n",
            "[[1. 0. 0. ... 0. 0. 0.]\n",
            " [0. 1. 0. ... 0. 0. 0.]\n",
            " [0. 0. 1. ... 0. 0. 0.]\n",
            " ...\n",
            " [0. 0. 0. ... 0. 1. 0.]\n",
            " [0. 0. 0. ... 0. 0. 1.]\n",
            " [0. 0. 0. ... 0. 1. 0.]]\n"
          ]
        }
      ]
    },
    {
      "cell_type": "code",
      "source": [
        "X_train.shape, X_test.shape, Y_train.shape, Y_test.shape"
      ],
      "metadata": {
        "colab": {
          "base_uri": "https://localhost:8080/"
        },
        "id": "051ybYXAtzWY",
        "outputId": "321f0041-4d70-460d-8288-35a2e25cf6ba"
      },
      "execution_count": 28,
      "outputs": [
        {
          "output_type": "execute_result",
          "data": {
            "text/plain": [
              "((1437, 64), (360, 64), (1437, 10), (360, 10))"
            ]
          },
          "metadata": {},
          "execution_count": 28
        }
      ]
    },
    {
      "cell_type": "code",
      "source": [
        "def sigmoid(X):\n",
        "  return 1 / (1 + np.exp(-X))\n",
        "\n",
        "def softmax(X):\n",
        "  return np.exp(X) / np.sum(np.exp(X))\n",
        "\n",
        "def root_mean_squired_error(Y_gt, Y_pred):\n",
        "  return np.sqrt(np.mean((Y_gt - Y_pred) ** 2))"
      ],
      "metadata": {
        "id": "i_PS2bzzt8yg"
      },
      "execution_count": 29,
      "outputs": []
    },
    {
      "cell_type": "code",
      "source": [
        "epochs = 80\n",
        "lr = 0.001\n",
        "D_in = X_train.shape[1]\n",
        "H1 = 128\n",
        "H2 = 32\n",
        "D_out = Y_train.shape[1]"
      ],
      "metadata": {
        "id": "qN-N16fDvG2h"
      },
      "execution_count": 30,
      "outputs": []
    },
    {
      "cell_type": "code",
      "source": [
        "W1 = np.random.randn(D_in, H1)\n",
        "W2 = np.random.randn(H1, H2)\n",
        "W3 = np.random.randn(H2, D_out)\n",
        "\n",
        "B1 = np.random.randn(1, H1)\n",
        "B2 = np.random.randn(1, H2)\n",
        "B3 = np.random.randn(1, D_out)"
      ],
      "metadata": {
        "id": "cxYVOTWexP6O"
      },
      "execution_count": 31,
      "outputs": []
    },
    {
      "cell_type": "code",
      "source": [
        "trainLoss = []\n",
        "trainAcc = []\n",
        "testAcc = []\n",
        "testLoss = []\n",
        "\n",
        "for epoch in range(epochs):\n",
        "  # Train\n",
        "  Y_pred_train = []\n",
        "  for x, y in zip(X_train, Y_train):\n",
        "    x = x.reshape(-1, 1)\n",
        "\n",
        "    # >>>>> forward >>>>>\n",
        "    # layer 1\n",
        "    out1 = sigmoid(x.T @ W1 + B1)\n",
        "    # layer 2\n",
        "    out2 = sigmoid(out1 @ W2 + B2)\n",
        "    # layer 3\n",
        "    out3 = softmax(out2 @ W3 + B3)\n",
        "    y_pred = out3\n",
        "\n",
        "    Y_pred_train.append(y_pred)\n",
        "\n",
        "    loss = root_mean_squired_error(y, Y_pred_train)\n",
        "\n",
        "    # <<<<<< backward <<<<<<\n",
        "    # layer 3\n",
        "    error = -2 * (y - y_pred)\n",
        "    grad_B3 = error\n",
        "    grad_W3 = out2.T @ error\n",
        "    # layer 2\n",
        "    error = error @ W3.T * out2 * (1 - out2)\n",
        "    grad_B2 = error\n",
        "    grad_W2 = out1.T @ error\n",
        "    # layer 1\n",
        "    error = error @ W2.T * out1 * (1 - out1)\n",
        "    grad_B1 = error\n",
        "    grad_W1 = x @ error\n",
        "\n",
        "\n",
        "    # ===== update =====\n",
        "    # layer 1\n",
        "    W1 -= lr * grad_W1\n",
        "    B1 -= lr * grad_B1\n",
        "    # layer 2\n",
        "    W2 -= lr * grad_W2\n",
        "    B2 -= lr * grad_B2\n",
        "    # layer 3\n",
        "    W3 -= lr * grad_W3\n",
        "    B3 -= lr *grad_B3\n",
        "\n",
        "  # Test\n",
        "  Y_pred_test = []\n",
        "  for x, y in zip(X_test, Y_test):\n",
        "    x = x.reshape(-1, 1)\n",
        "\n",
        "    # >>>>> forward >>>>>\n",
        "    # layer 1\n",
        "    out1 = sigmoid(x.T @ W1 + B1)\n",
        "    # layer 2\n",
        "    out2 = sigmoid(out1 @ W2 + B2)\n",
        "    # layer 3\n",
        "    out3 = softmax(out2 @ W3 + B3)\n",
        "    y_pred = out3\n",
        "\n",
        "    Y_pred_test.append(y_pred)\n",
        "\n",
        "    loss = root_mean_squired_error(y, Y_pred_test)\n",
        "\n",
        "  print('='*25, 'Epoch:', epoch, '='*25)\n",
        "  Y_pred_train = np.array(Y_pred_train).reshape(-1, 10)\n",
        "  loss_train = root_mean_squired_error(Y_train, Y_pred_train)\n",
        "  accuracy_train = np.sum(np.argmax(Y_train, axis=1) == np.argmax(Y_pred_train, axis=1)) / len(Y_train)\n",
        "  print('Train ==> ', ' ❌', loss_train, '\\t✅', accuracy_train)\n",
        "  trainLoss.append(loss_train)\n",
        "  trainAcc.append(accuracy_train)\n",
        "\n",
        "  Y_pred_test = np.array(Y_pred_test).reshape(-1, 10)\n",
        "  loss_test = root_mean_squired_error(Y_test, Y_pred_test)\n",
        "  accuracy_test = np.sum(np.argmax(Y_test, axis=1) == np.argmax(Y_pred_test, axis=1)) / len(Y_test)\n",
        "  print('Test ==> ', ' ❌', loss_test, '\\t✅', accuracy_test)\n",
        "  testLoss.append(loss_test)\n",
        "  testAcc.append(accuracy_test)"
      ],
      "metadata": {
        "colab": {
          "base_uri": "https://localhost:8080/"
        },
        "id": "yg2biRHnjVu3",
        "outputId": "b23e421a-e441-4c40-99b0-4735732d8195"
      },
      "execution_count": 32,
      "outputs": [
        {
          "output_type": "stream",
          "name": "stdout",
          "text": [
            "========================= Epoch: 0 =========================\n",
            "Train ==>   ❌ 0.32611823803616957 \t✅ 0.16353514265831592\n",
            "Test ==>   ❌ 0.3084113581472567 \t✅ 0.19722222222222222\n",
            "========================= Epoch: 1 =========================\n",
            "Train ==>   ❌ 0.29119477086038537 \t✅ 0.29993041057759223\n",
            "Test ==>   ❌ 0.286425391468694 \t✅ 0.31666666666666665\n",
            "========================= Epoch: 2 =========================\n",
            "Train ==>   ❌ 0.27017567801472653 \t✅ 0.41823242867084204\n",
            "Test ==>   ❌ 0.26860237338187537 \t✅ 0.45\n",
            "========================= Epoch: 3 =========================\n",
            "Train ==>   ❌ 0.2513828469583809 \t✅ 0.5254001391788448\n",
            "Test ==>   ❌ 0.2519266529811323 \t✅ 0.5472222222222223\n",
            "========================= Epoch: 4 =========================\n",
            "Train ==>   ❌ 0.2347577577827324 \t✅ 0.6096033402922756\n",
            "Test ==>   ❌ 0.23908248970307697 \t✅ 0.6055555555555555\n",
            "========================= Epoch: 5 =========================\n",
            "Train ==>   ❌ 0.2205385781659299 \t✅ 0.6694502435629784\n",
            "Test ==>   ❌ 0.22717922050706107 \t✅ 0.6416666666666667\n",
            "========================= Epoch: 6 =========================\n",
            "Train ==>   ❌ 0.20836427703271243 \t✅ 0.7125956854558108\n",
            "Test ==>   ❌ 0.21704725807936526 \t✅ 0.6722222222222223\n",
            "========================= Epoch: 7 =========================\n",
            "Train ==>   ❌ 0.1969389663606752 \t✅ 0.7466945024356297\n",
            "Test ==>   ❌ 0.2084128750733391 \t✅ 0.7166666666666667\n",
            "========================= Epoch: 8 =========================\n",
            "Train ==>   ❌ 0.18734478194714826 \t✅ 0.7780097425191371\n",
            "Test ==>   ❌ 0.20155170251493956 \t✅ 0.7527777777777778\n",
            "========================= Epoch: 9 =========================\n",
            "Train ==>   ❌ 0.1791298409120871 \t✅ 0.8016701461377871\n",
            "Test ==>   ❌ 0.195264114996128 \t✅ 0.7583333333333333\n",
            "========================= Epoch: 10 =========================\n",
            "Train ==>   ❌ 0.17127345663648882 \t✅ 0.8239387613082811\n",
            "Test ==>   ❌ 0.18909430372667316 \t✅ 0.775\n",
            "========================= Epoch: 11 =========================\n",
            "Train ==>   ❌ 0.1637508801577034 \t✅ 0.8441196938065414\n",
            "Test ==>   ❌ 0.18423220220447842 \t✅ 0.775\n",
            "========================= Epoch: 12 =========================\n",
            "Train ==>   ❌ 0.1568318581308339 \t✅ 0.8649965205288797\n",
            "Test ==>   ❌ 0.1796575599850294 \t✅ 0.7972222222222223\n",
            "========================= Epoch: 13 =========================\n",
            "Train ==>   ❌ 0.15088266202937148 \t✅ 0.8810020876826722\n",
            "Test ==>   ❌ 0.1759110833765848 \t✅ 0.8055555555555556\n",
            "========================= Epoch: 14 =========================\n",
            "Train ==>   ❌ 0.14560429336223302 \t✅ 0.8907446068197634\n",
            "Test ==>   ❌ 0.17250560134850876 \t✅ 0.8138888888888889\n",
            "========================= Epoch: 15 =========================\n",
            "Train ==>   ❌ 0.1408386529902669 \t✅ 0.8983994432846207\n",
            "Test ==>   ❌ 0.16937632225860774 \t✅ 0.8138888888888889\n",
            "========================= Epoch: 16 =========================\n",
            "Train ==>   ❌ 0.1364128919067081 \t✅ 0.9046624913013221\n",
            "Test ==>   ❌ 0.16664420242313896 \t✅ 0.8166666666666667\n",
            "========================= Epoch: 17 =========================\n",
            "Train ==>   ❌ 0.1323523375437365 \t✅ 0.9102296450939458\n",
            "Test ==>   ❌ 0.16412953784216125 \t✅ 0.8277777777777777\n",
            "========================= Epoch: 18 =========================\n",
            "Train ==>   ❌ 0.1283979653195998 \t✅ 0.9144050104384134\n",
            "Test ==>   ❌ 0.16189452530980322 \t✅ 0.8333333333333334\n",
            "========================= Epoch: 19 =========================\n",
            "Train ==>   ❌ 0.12499331509505732 \t✅ 0.9213639526791928\n",
            "Test ==>   ❌ 0.1598601932984027 \t✅ 0.8388888888888889\n",
            "========================= Epoch: 20 =========================\n",
            "Train ==>   ❌ 0.12185724533551424 \t✅ 0.9241475295755045\n",
            "Test ==>   ❌ 0.157918699145216 \t✅ 0.8472222222222222\n",
            "========================= Epoch: 21 =========================\n",
            "Train ==>   ❌ 0.1189130850225721 \t✅ 0.9269311064718163\n",
            "Test ==>   ❌ 0.15601187269343916 \t✅ 0.85\n",
            "========================= Epoch: 22 =========================\n",
            "Train ==>   ❌ 0.11617289543239828 \t✅ 0.9311064718162839\n",
            "Test ==>   ❌ 0.15421141798952437 \t✅ 0.85\n",
            "========================= Epoch: 23 =========================\n",
            "Train ==>   ❌ 0.1135569093739411 \t✅ 0.9331941544885177\n",
            "Test ==>   ❌ 0.15258454087718112 \t✅ 0.85\n",
            "========================= Epoch: 24 =========================\n",
            "Train ==>   ❌ 0.1108967778950405 \t✅ 0.9373695198329853\n",
            "Test ==>   ❌ 0.15100115957336674 \t✅ 0.8555555555555555\n",
            "========================= Epoch: 25 =========================\n",
            "Train ==>   ❌ 0.1082729193186754 \t✅ 0.9436325678496869\n",
            "Test ==>   ❌ 0.14950123672049534 \t✅ 0.8666666666666667\n",
            "========================= Epoch: 26 =========================\n",
            "Train ==>   ❌ 0.10593147378056497 \t✅ 0.9471120389700766\n",
            "Test ==>   ❌ 0.1480718711287925 \t✅ 0.8638888888888889\n",
            "========================= Epoch: 27 =========================\n",
            "Train ==>   ❌ 0.10368186189283675 \t✅ 0.9519832985386222\n",
            "Test ==>   ❌ 0.14671091802011038 \t✅ 0.8694444444444445\n",
            "========================= Epoch: 28 =========================\n",
            "Train ==>   ❌ 0.10150763978166151 \t✅ 0.9582463465553236\n",
            "Test ==>   ❌ 0.14550219548302418 \t✅ 0.8722222222222222\n",
            "========================= Epoch: 29 =========================\n",
            "Train ==>   ❌ 0.09938593478283556 \t✅ 0.9596381350034795\n",
            "Test ==>   ❌ 0.14430355842286058 \t✅ 0.8722222222222222\n",
            "========================= Epoch: 30 =========================\n",
            "Train ==>   ❌ 0.09732804182851863 \t✅ 0.9603340292275574\n",
            "Test ==>   ❌ 0.14306948038550066 \t✅ 0.8694444444444445\n",
            "========================= Epoch: 31 =========================\n",
            "Train ==>   ❌ 0.09538952342944766 \t✅ 0.9624217118997912\n",
            "Test ==>   ❌ 0.1418541624641757 \t✅ 0.8694444444444445\n",
            "========================= Epoch: 32 =========================\n",
            "Train ==>   ❌ 0.09351964249952771 \t✅ 0.9638135003479471\n",
            "Test ==>   ❌ 0.140753554715079 \t✅ 0.8722222222222222\n",
            "========================= Epoch: 33 =========================\n",
            "Train ==>   ❌ 0.09174098139776116 \t✅ 0.965205288796103\n",
            "Test ==>   ❌ 0.1397247546406122 \t✅ 0.8861111111111111\n",
            "========================= Epoch: 34 =========================\n",
            "Train ==>   ❌ 0.09008121832521512 \t✅ 0.9679888656924147\n",
            "Test ==>   ❌ 0.13874588978902713 \t✅ 0.8888888888888888\n",
            "========================= Epoch: 35 =========================\n",
            "Train ==>   ❌ 0.08845779133071817 \t✅ 0.9700765483646486\n",
            "Test ==>   ❌ 0.13780694209694336 \t✅ 0.8888888888888888\n",
            "========================= Epoch: 36 =========================\n",
            "Train ==>   ❌ 0.08686713260475394 \t✅ 0.9707724425887265\n",
            "Test ==>   ❌ 0.13686318612626758 \t✅ 0.8888888888888888\n",
            "========================= Epoch: 37 =========================\n",
            "Train ==>   ❌ 0.08532308933244723 \t✅ 0.9714683368128044\n",
            "Test ==>   ❌ 0.1358780473603261 \t✅ 0.8888888888888888\n",
            "========================= Epoch: 38 =========================\n",
            "Train ==>   ❌ 0.08384055665925175 \t✅ 0.9735560194850382\n",
            "Test ==>   ❌ 0.13497030812555638 \t✅ 0.8861111111111111\n",
            "========================= Epoch: 39 =========================\n",
            "Train ==>   ❌ 0.08239797616004345 \t✅ 0.9742519137091162\n",
            "Test ==>   ❌ 0.13409043270434948 \t✅ 0.8888888888888888\n",
            "========================= Epoch: 40 =========================\n",
            "Train ==>   ❌ 0.08097447419227931 \t✅ 0.9770354906054279\n",
            "Test ==>   ❌ 0.13323977585017213 \t✅ 0.8888888888888888\n",
            "========================= Epoch: 41 =========================\n",
            "Train ==>   ❌ 0.07958829372365854 \t✅ 0.97633959638135\n",
            "Test ==>   ❌ 0.13242079391480238 \t✅ 0.8888888888888888\n",
            "========================= Epoch: 42 =========================\n",
            "Train ==>   ❌ 0.07823336419661991 \t✅ 0.9770354906054279\n",
            "Test ==>   ❌ 0.13170930881453635 \t✅ 0.8888888888888888\n",
            "========================= Epoch: 43 =========================\n",
            "Train ==>   ❌ 0.07693850430843106 \t✅ 0.977731384829506\n",
            "Test ==>   ❌ 0.13113289690022986 \t✅ 0.8916666666666667\n",
            "========================= Epoch: 44 =========================\n",
            "Train ==>   ❌ 0.07571871202113879 \t✅ 0.9791231732776617\n",
            "Test ==>   ❌ 0.1306439645009267 \t✅ 0.8944444444444445\n",
            "========================= Epoch: 45 =========================\n",
            "Train ==>   ❌ 0.07454948757301308 \t✅ 0.9791231732776617\n",
            "Test ==>   ❌ 0.13020812122831157 \t✅ 0.8944444444444445\n",
            "========================= Epoch: 46 =========================\n",
            "Train ==>   ❌ 0.07338126760653545 \t✅ 0.9798190675017397\n",
            "Test ==>   ❌ 0.12981119044884615 \t✅ 0.8944444444444445\n",
            "========================= Epoch: 47 =========================\n",
            "Train ==>   ❌ 0.07215022481490217 \t✅ 0.9798190675017397\n",
            "Test ==>   ❌ 0.12944167840771978 \t✅ 0.8944444444444445\n",
            "========================= Epoch: 48 =========================\n",
            "Train ==>   ❌ 0.07102741573141509 \t✅ 0.9805149617258176\n",
            "Test ==>   ❌ 0.12908579226647351 \t✅ 0.8944444444444445\n",
            "========================= Epoch: 49 =========================\n",
            "Train ==>   ❌ 0.07001640127749831 \t✅ 0.9812108559498957\n",
            "Test ==>   ❌ 0.1287366885033567 \t✅ 0.8944444444444445\n",
            "========================= Epoch: 50 =========================\n",
            "Train ==>   ❌ 0.06906013843276572 \t✅ 0.9812108559498957\n",
            "Test ==>   ❌ 0.12838410907151562 \t✅ 0.8944444444444445\n",
            "========================= Epoch: 51 =========================\n",
            "Train ==>   ❌ 0.06814793805743594 \t✅ 0.9812108559498957\n",
            "Test ==>   ❌ 0.12802477134116125 \t✅ 0.8944444444444445\n",
            "========================= Epoch: 52 =========================\n",
            "Train ==>   ❌ 0.06727674556460024 \t✅ 0.9812108559498957\n",
            "Test ==>   ❌ 0.12765997905206583 \t✅ 0.8944444444444445\n",
            "========================= Epoch: 53 =========================\n",
            "Train ==>   ❌ 0.06644234938943035 \t✅ 0.9812108559498957\n",
            "Test ==>   ❌ 0.12728676537203593 \t✅ 0.8944444444444445\n",
            "========================= Epoch: 54 =========================\n",
            "Train ==>   ❌ 0.06562456621201038 \t✅ 0.9826026443980515\n",
            "Test ==>   ❌ 0.12690015068850583 \t✅ 0.8972222222222223\n",
            "========================= Epoch: 55 =========================\n",
            "Train ==>   ❌ 0.06480080088589703 \t✅ 0.9832985386221295\n",
            "Test ==>   ❌ 0.1265170301168943 \t✅ 0.9\n",
            "========================= Epoch: 56 =========================\n",
            "Train ==>   ❌ 0.06400206898464374 \t✅ 0.9832985386221295\n",
            "Test ==>   ❌ 0.1261498132495809 \t✅ 0.9\n",
            "========================= Epoch: 57 =========================\n",
            "Train ==>   ❌ 0.06322919826803625 \t✅ 0.9839944328462074\n",
            "Test ==>   ❌ 0.12579383236354413 \t✅ 0.9\n",
            "========================= Epoch: 58 =========================\n",
            "Train ==>   ❌ 0.06248210844808405 \t✅ 0.9846903270702854\n",
            "Test ==>   ❌ 0.12544478396625644 \t✅ 0.9\n",
            "========================= Epoch: 59 =========================\n",
            "Train ==>   ❌ 0.061759249943730554 \t✅ 0.9846903270702854\n",
            "Test ==>   ❌ 0.12509759738469628 \t✅ 0.9\n",
            "========================= Epoch: 60 =========================\n",
            "Train ==>   ❌ 0.06105680177237016 \t✅ 0.9853862212943633\n",
            "Test ==>   ❌ 0.12475148665503362 \t✅ 0.9\n",
            "========================= Epoch: 61 =========================\n",
            "Train ==>   ❌ 0.06037297311943535 \t✅ 0.9867780097425192\n",
            "Test ==>   ❌ 0.12440957030525013 \t✅ 0.9\n",
            "========================= Epoch: 62 =========================\n",
            "Train ==>   ❌ 0.059707782127474976 \t✅ 0.9867780097425192\n",
            "Test ==>   ❌ 0.12407566828029837 \t✅ 0.9\n",
            "========================= Epoch: 63 =========================\n",
            "Train ==>   ❌ 0.059061059194006726 \t✅ 0.988169798190675\n",
            "Test ==>   ❌ 0.12375225693287559 \t✅ 0.9\n",
            "========================= Epoch: 64 =========================\n",
            "Train ==>   ❌ 0.05843153216895992 \t✅ 0.9895615866388309\n",
            "Test ==>   ❌ 0.1234417878912729 \t✅ 0.9\n",
            "========================= Epoch: 65 =========================\n",
            "Train ==>   ❌ 0.057817835977394094 \t✅ 0.9895615866388309\n",
            "Test ==>   ❌ 0.12314724475139141 \t✅ 0.9\n",
            "========================= Epoch: 66 =========================\n",
            "Train ==>   ❌ 0.057219501484954374 \t✅ 0.9895615866388309\n",
            "Test ==>   ❌ 0.12286945652011676 \t✅ 0.9\n",
            "========================= Epoch: 67 =========================\n",
            "Train ==>   ❌ 0.05663586971411918 \t✅ 0.9902574808629089\n",
            "Test ==>   ❌ 0.12260565461733679 \t✅ 0.9\n",
            "========================= Epoch: 68 =========================\n",
            "Train ==>   ❌ 0.05606406649045557 \t✅ 0.9902574808629089\n",
            "Test ==>   ❌ 0.12235270265636505 \t✅ 0.9\n",
            "========================= Epoch: 69 =========================\n",
            "Train ==>   ❌ 0.05549886541290413 \t✅ 0.9902574808629089\n",
            "Test ==>   ❌ 0.1221101305366557 \t✅ 0.9027777777777778\n",
            "========================= Epoch: 70 =========================\n",
            "Train ==>   ❌ 0.05493408964219646 \t✅ 0.9902574808629089\n",
            "Test ==>   ❌ 0.12187792843364598 \t✅ 0.9027777777777778\n",
            "========================= Epoch: 71 =========================\n",
            "Train ==>   ❌ 0.054369927914590485 \t✅ 0.9902574808629089\n",
            "Test ==>   ❌ 0.12165482399297252 \t✅ 0.9027777777777778\n",
            "========================= Epoch: 72 =========================\n",
            "Train ==>   ❌ 0.05381277350036392 \t✅ 0.9902574808629089\n",
            "Test ==>   ❌ 0.12144962192077587 \t✅ 0.9027777777777778\n",
            "========================= Epoch: 73 =========================\n",
            "Train ==>   ❌ 0.0532601700684839 \t✅ 0.9902574808629089\n",
            "Test ==>   ❌ 0.12126223028940526 \t✅ 0.9027777777777778\n",
            "========================= Epoch: 74 =========================\n",
            "Train ==>   ❌ 0.052714026939989056 \t✅ 0.9902574808629089\n",
            "Test ==>   ❌ 0.12108481611793187 \t✅ 0.9027777777777778\n",
            "========================= Epoch: 75 =========================\n",
            "Train ==>   ❌ 0.05217822847361056 \t✅ 0.9902574808629089\n",
            "Test ==>   ❌ 0.12091222313242025 \t✅ 0.9027777777777778\n",
            "========================= Epoch: 76 =========================\n",
            "Train ==>   ❌ 0.051654868541733505 \t✅ 0.9909533750869868\n",
            "Test ==>   ❌ 0.1207396259222314 \t✅ 0.9027777777777778\n",
            "========================= Epoch: 77 =========================\n",
            "Train ==>   ❌ 0.05114542260259072 \t✅ 0.9909533750869868\n",
            "Test ==>   ❌ 0.12056299995710115 \t✅ 0.9027777777777778\n",
            "========================= Epoch: 78 =========================\n",
            "Train ==>   ❌ 0.05065060272470835 \t✅ 0.9909533750869868\n",
            "Test ==>   ❌ 0.12038217764088231 \t✅ 0.9027777777777778\n",
            "========================= Epoch: 79 =========================\n",
            "Train ==>   ❌ 0.050168934942880335 \t✅ 0.9909533750869868\n",
            "Test ==>   ❌ 0.12020030997182225 \t✅ 0.9027777777777778\n"
          ]
        }
      ]
    },
    {
      "cell_type": "code",
      "source": [
        "fig , (ax1 , ax2) = plt.subplots(1,2 , figsize=(12,5))\n",
        "\n",
        "\n",
        "ax1.plot(trainLoss)\n",
        "ax1.plot(testLoss)\n",
        "ax1.set_xlabel(\"Epoch\")\n",
        "ax1.set_ylabel(\"Loss\")\n",
        "ax1.legend([\"train\" , \"test\"])\n",
        "ax1.title.set_text('Loss Chart')\n",
        "\n",
        "ax2.plot(trainAcc)\n",
        "ax2.plot(testAcc)\n",
        "ax2.set_xlabel(\"Epoch\")\n",
        "ax2.set_ylabel(\"Accuracy\")\n",
        "ax2.legend([\"train\" , \"test\"])\n",
        "ax2.title.set_text('Accuracy Chart')\n",
        "\n",
        "plt.show()"
      ],
      "metadata": {
        "colab": {
          "base_uri": "https://localhost:8080/",
          "height": 455
        },
        "id": "DaISeAvhY5A1",
        "outputId": "45e31808-c463-4c89-a17e-4cf05ddab86c"
      },
      "execution_count": 34,
      "outputs": [
        {
          "output_type": "display_data",
          "data": {
            "text/plain": [
              "<Figure size 1200x500 with 2 Axes>"
            ],
            "image/png": "[encoded data removed]"
          },
          "metadata": {}
        }
      ]
    },
    {
      "cell_type": "code",
      "source": [
        "import cv2"
      ],
      "metadata": {
        "id": "MJtRasxTkB_W"
      },
      "execution_count": 35,
      "outputs": []
    },
    {
      "cell_type": "code",
      "source": [
        "image = cv2.imread('4.jpg')\n",
        "image.shape"
      ],
      "metadata": {
        "colab": {
          "base_uri": "https://localhost:8080/"
        },
        "id": "vPNiK7t3hnSR",
        "outputId": "e0a32dcb-9f21-4870-ea85-5433969ce0d1"
      },
      "execution_count": 41,
      "outputs": [
        {
          "output_type": "execute_result",
          "data": {
            "text/plain": [
              "(8, 8, 3)"
            ]
          },
          "metadata": {},
          "execution_count": 41
        }
      ]
    },
    {
      "cell_type": "code",
      "source": [
        "image = cv2.cvtColor(image, cv2.COLOR_BGR2GRAY)\n",
        "image.shape"
      ],
      "metadata": {
        "colab": {
          "base_uri": "https://localhost:8080/"
        },
        "id": "6uQ4Tg76iCUa",
        "outputId": "7808f9de-8af7-4c4d-dd9e-7b782470b33d"
      },
      "execution_count": 42,
      "outputs": [
        {
          "output_type": "execute_result",
          "data": {
            "text/plain": [
              "(8, 8)"
            ]
          },
          "metadata": {},
          "execution_count": 42
        }
      ]
    },
    {
      "cell_type": "code",
      "source": [
        "image = image.reshape(64, 1)\n",
        "image.shape"
      ],
      "metadata": {
        "colab": {
          "base_uri": "https://localhost:8080/"
        },
        "id": "OXcZkexWihdd",
        "outputId": "33b1d30b-3c20-4362-bbac-5dc5e046e63e"
      },
      "execution_count": 43,
      "outputs": [
        {
          "output_type": "execute_result",
          "data": {
            "text/plain": [
              "(64, 1)"
            ]
          },
          "metadata": {},
          "execution_count": 43
        }
      ]
    },
    {
      "cell_type": "code",
      "source": [
        "x = image\n",
        "\n",
        "# >>>>> forward >>>>>\n",
        "# layer 1\n",
        "out1 = sigmoid(x.T @ W1 + B1)\n",
        "# layer 2\n",
        "out2 = sigmoid(out1 @ W2 + B2)\n",
        "# layer 3\n",
        "out3 = softmax(out2 @ W3 + B3)\n",
        "\n",
        "y_pred = out3\n",
        "\n",
        "print(np.argmax(y_pred))"
      ],
      "metadata": {
        "colab": {
          "base_uri": "https://localhost:8080/"
        },
        "id": "BWAcZzMvisoU",
        "outputId": "52a3181e-f152-4c4c-d600-c3f4490b16e6"
      },
      "execution_count": 44,
      "outputs": [
        {
          "output_type": "stream",
          "name": "stdout",
          "text": [
            "9\n"
          ]
        },
        {
          "output_type": "stream",
          "name": "stderr",
          "text": [
            "<ipython-input-29-6c9747543e2e>:2: RuntimeWarning: overflow encountered in exp\n",
            "  return 1 / (1 + np.exp(-X))\n"
          ]
        }
      ]
    },
    {
      "cell_type": "code",
      "source": [],
      "metadata": {
        "id": "CyryRKQrPEaV"
      },
      "execution_count": 40,
      "outputs": []
    }
  ]
}