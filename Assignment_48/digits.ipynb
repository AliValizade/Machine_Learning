{
  "nbformat": 4,
  "nbformat_minor": 0,
  "metadata": {
    "colab": {
      "provenance": []
    },
    "kernelspec": {
      "name": "python3",
      "display_name": "Python 3"
    },
    "language_info": {
      "name": "python"
    }
  },
  "cells": [
    {
      "cell_type": "code",
      "execution_count": 4,
      "metadata": {
        "id": "rHfHcd7HaNan"
      },
      "outputs": [],
      "source": [
        "import numpy as np\n",
        "import matplotlib.pyplot as plt\n",
        "from sklearn.datasets import load_digits\n",
        "from sklearn.model_selection import train_test_split"
      ]
    },
    {
      "cell_type": "code",
      "source": [
        "dataset = load_digits()"
      ],
      "metadata": {
        "id": "zcGrrwWUbcga"
      },
      "execution_count": 5,
      "outputs": []
    },
    {
      "cell_type": "code",
      "source": [
        "dataset.data.shape"
      ],
      "metadata": {
        "colab": {
          "base_uri": "https://localhost:8080/"
        },
        "id": "Qe8N06oSjAmb",
        "outputId": "70346da5-8027-4dac-c1e0-370a4e575cc9"
      },
      "execution_count": 6,
      "outputs": [
        {
          "output_type": "execute_result",
          "data": {
            "text/plain": [
              "(1797, 64)"
            ]
          },
          "metadata": {},
          "execution_count": 6
        }
      ]
    },
    {
      "cell_type": "code",
      "source": [
        "dataset.data[100]"
      ],
      "metadata": {
        "colab": {
          "base_uri": "https://localhost:8080/"
        },
        "id": "Ukw1WeZOpink",
        "outputId": "40d891e1-7dde-4690-bac0-79ab367488d5"
      },
      "execution_count": 7,
      "outputs": [
        {
          "output_type": "execute_result",
          "data": {
            "text/plain": [
              "array([ 0.,  0.,  0.,  2., 13.,  0.,  0.,  0.,  0.,  0.,  0.,  8., 15.,\n",
              "        0.,  0.,  0.,  0.,  0.,  5., 16.,  5.,  2.,  0.,  0.,  0.,  0.,\n",
              "       15., 12.,  1., 16.,  4.,  0.,  0.,  4., 16.,  2.,  9., 16.,  8.,\n",
              "        0.,  0.,  0., 10., 14., 16., 16.,  4.,  0.,  0.,  0.,  0.,  0.,\n",
              "       13.,  8.,  0.,  0.,  0.,  0.,  0.,  0., 13.,  6.,  0.,  0.])"
            ]
          },
          "metadata": {},
          "execution_count": 7
        }
      ]
    },
    {
      "cell_type": "code",
      "source": [
        "dataset.images.shape"
      ],
      "metadata": {
        "colab": {
          "base_uri": "https://localhost:8080/"
        },
        "id": "ZCis7EKAjLXi",
        "outputId": "1c6bf130-ccfd-4595-8396-c8c6cd515baf"
      },
      "execution_count": 8,
      "outputs": [
        {
          "output_type": "execute_result",
          "data": {
            "text/plain": [
              "(1797, 8, 8)"
            ]
          },
          "metadata": {},
          "execution_count": 8
        }
      ]
    },
    {
      "cell_type": "code",
      "source": [
        "dataset.images[100]"
      ],
      "metadata": {
        "colab": {
          "base_uri": "https://localhost:8080/"
        },
        "id": "cmPWNiJ7poEJ",
        "outputId": "f62cb802-c052-4fb3-b2a1-05beb1527948"
      },
      "execution_count": 9,
      "outputs": [
        {
          "output_type": "execute_result",
          "data": {
            "text/plain": [
              "array([[ 0.,  0.,  0.,  2., 13.,  0.,  0.,  0.],\n",
              "       [ 0.,  0.,  0.,  8., 15.,  0.,  0.,  0.],\n",
              "       [ 0.,  0.,  5., 16.,  5.,  2.,  0.,  0.],\n",
              "       [ 0.,  0., 15., 12.,  1., 16.,  4.,  0.],\n",
              "       [ 0.,  4., 16.,  2.,  9., 16.,  8.,  0.],\n",
              "       [ 0.,  0., 10., 14., 16., 16.,  4.,  0.],\n",
              "       [ 0.,  0.,  0.,  0., 13.,  8.,  0.,  0.],\n",
              "       [ 0.,  0.,  0.,  0., 13.,  6.,  0.,  0.]])"
            ]
          },
          "metadata": {},
          "execution_count": 9
        }
      ]
    },
    {
      "cell_type": "code",
      "source": [
        "dataset.target.shape"
      ],
      "metadata": {
        "colab": {
          "base_uri": "https://localhost:8080/"
        },
        "id": "KT1loo-djblk",
        "outputId": "b618d96d-9874-49cf-e980-2a88f9f698f6"
      },
      "execution_count": 10,
      "outputs": [
        {
          "output_type": "execute_result",
          "data": {
            "text/plain": [
              "(1797,)"
            ]
          },
          "metadata": {},
          "execution_count": 10
        }
      ]
    },
    {
      "cell_type": "code",
      "source": [
        "dataset.target[100]"
      ],
      "metadata": {
        "colab": {
          "base_uri": "https://localhost:8080/"
        },
        "id": "fNPzfWqqptZq",
        "outputId": "3443d56e-4ab0-4669-bfb1-d06e36c17a80"
      },
      "execution_count": 11,
      "outputs": [
        {
          "output_type": "execute_result",
          "data": {
            "text/plain": [
              "4"
            ]
          },
          "metadata": {},
          "execution_count": 11
        }
      ]
    },
    {
      "cell_type": "code",
      "source": [
        "plt.imshow(dataset.images[100])"
      ],
      "metadata": {
        "colab": {
          "base_uri": "https://localhost:8080/",
          "height": 447
        },
        "id": "8rLA1yZOjxLF",
        "outputId": "55f08871-18bd-4db1-d86f-d8aa8f06c640"
      },
      "execution_count": 12,
      "outputs": [
        {
          "output_type": "execute_result",
          "data": {
            "text/plain": [
              "<matplotlib.image.AxesImage at 0x7f0f85a6cc10>"
            ]
          },
          "metadata": {},
          "execution_count": 12
        },
        {
          "output_type": "display_data",
          "data": {
            "text/plain": [
              "<Figure size 640x480 with 1 Axes>"
            ],
            "image/png": "[encoded data removed]"
          },
          "metadata": {}
        }
      ]
    },
    {
      "cell_type": "code",
      "source": [
        "X = dataset.data\n",
        "Y = dataset.target\n",
        "Y = np.eye(10)[Y]  # One hot\n",
        "\n",
        "X_train, X_test, Y_train, Y_test = train_test_split(X, Y, test_size=0.2, shuffle=True)"
      ],
      "metadata": {
        "id": "qW6IuVODtQsl"
      },
      "execution_count": 13,
      "outputs": []
    },
    {
      "cell_type": "code",
      "source": [
        "X_train.shape, X_test.shape, Y_train.shape, Y_test.shape"
      ],
      "metadata": {
        "colab": {
          "base_uri": "https://localhost:8080/"
        },
        "id": "051ybYXAtzWY",
        "outputId": "0b6376ab-1dfa-4dca-b212-7b0b6aef54d1"
      },
      "execution_count": 14,
      "outputs": [
        {
          "output_type": "execute_result",
          "data": {
            "text/plain": [
              "((1437, 64), (360, 64), (1437, 10), (360, 10))"
            ]
          },
          "metadata": {},
          "execution_count": 14
        }
      ]
    },
    {
      "cell_type": "code",
      "source": [
        "def sigmoid(X):\n",
        "  return 1 / (1 + np.exp(-X))\n",
        "\n",
        "def softmax(X):\n",
        "  return np.exp(X) / np.sum(np.exp(X))\n",
        "\n",
        "def root_mean_squired_error(Y_gt, Y_pred):\n",
        "  return np.sqrt(np.mean((Y_gt - Y_pred) ** 2))"
      ],
      "metadata": {
        "id": "i_PS2bzzt8yg"
      },
      "execution_count": 15,
      "outputs": []
    },
    {
      "cell_type": "code",
      "source": [
        "epochs = 80\n",
        "lr = 0.001\n",
        "D_in = X_train.shape[1]\n",
        "H1 = 128\n",
        "H2 = 32\n",
        "D_out = Y_train.shape[1]"
      ],
      "metadata": {
        "id": "qN-N16fDvG2h"
      },
      "execution_count": 16,
      "outputs": []
    },
    {
      "cell_type": "code",
      "source": [
        "W1 = np.random.randn(D_in, H1)\n",
        "W2 = np.random.randn(H1, H2)\n",
        "W3 = np.random.randn(H2, D_out)\n",
        "\n",
        "B1 = np.random.randn(1, H1)\n",
        "B2 = np.random.randn(1, H2)\n",
        "B3 = np.random.randn(1, D_out)"
      ],
      "metadata": {
        "id": "cxYVOTWexP6O"
      },
      "execution_count": 17,
      "outputs": []
    },
    {
      "cell_type": "code",
      "source": [
        "for epoch in range(epochs):\n",
        "  # Train\n",
        "  Y_pred_train = []\n",
        "  for x, y in zip(X_train, Y_train):\n",
        "    x = x.reshape(-1, 1)\n",
        "\n",
        "    # >>>>> forward >>>>>\n",
        "    # layer 1\n",
        "    out1 = sigmoid(x.T @ W1 + B1)\n",
        "    # layer 2\n",
        "    out2 = sigmoid(out1 @ W2 + B2)\n",
        "    # layer 3\n",
        "    out3 = softmax(out2 @ W3 + B3)\n",
        "    y_pred = out3\n",
        "\n",
        "    Y_pred_train.append(y_pred)\n",
        "\n",
        "    loss = root_mean_squired_error(y, Y_pred_train)\n",
        "\n",
        "    # <<<<<< backward <<<<<<\n",
        "    # layer 3\n",
        "    error = -2 * (y - y_pred)\n",
        "    grad_B3 = error\n",
        "    grad_W3 = out2.T @ error\n",
        "    # layer 2\n",
        "    error = error @ W3.T * out2 * (1 - out2)\n",
        "    grad_B2 = error\n",
        "    grad_W2 = out1.T @ error\n",
        "    # layer 1\n",
        "    error = error @ W2.T * out1 * (1 - out1)\n",
        "    grad_B1 = error\n",
        "    grad_W1 = x @ error\n",
        "\n",
        "\n",
        "    # ===== update =====\n",
        "    # layer 1\n",
        "    W1 -= lr * grad_W1\n",
        "    B1 -= lr * grad_B1\n",
        "    # layer 2\n",
        "    W2 -= lr * grad_W2\n",
        "    B2 -= lr * grad_B2\n",
        "    # layer 3\n",
        "    W3 -= lr * grad_W3\n",
        "    B3 -= lr *grad_B3\n",
        "\n",
        "  # Test\n",
        "  Y_pred_test = []\n",
        "  for x, y in zip(X_test, Y_test):\n",
        "    x = x.reshape(-1, 1)\n",
        "\n",
        "    # >>>>> forward >>>>>\n",
        "    # layer 1\n",
        "    out1 = sigmoid(x.T @ W1 + B1)\n",
        "    # layer 2\n",
        "    out2 = sigmoid(out1 @ W2 + B2)\n",
        "    # layer 3\n",
        "    out3 = softmax(out2 @ W3 + B3)\n",
        "    y_pred = out3\n",
        "\n",
        "    Y_pred_test.append(y_pred)\n",
        "\n",
        "    loss = root_mean_squired_error(y, Y_pred_test)\n",
        "\n",
        "  Y_pred_train = np.array(Y_pred_train).reshape(-1, 10)\n",
        "  loss_train = root_mean_squired_error(Y_train, Y_pred_train)\n",
        "  accuracy_train = np.sum(np.argmax(Y_train, axis=1) == np.argmax(Y_pred_train, axis=1)) / len(Y_train)\n",
        "  print('Train ==> ', ' ❌', loss_train, '\\t✅', accuracy_train)\n",
        "\n",
        "  Y_pred_test = np.array(Y_pred_test).reshape(-1, 10)\n",
        "  loss_test = root_mean_squired_error(Y_test, Y_pred_test)\n",
        "  accuracy_test = np.sum(np.argmax(Y_test, axis=1) == np.argmax(Y_pred_test, axis=1)) / len(Y_test)\n",
        "  print('Test ==> ', ' ❌', loss_test, '\\t✅', accuracy_test)\n",
        "  print('='*65)\n"
      ],
      "metadata": {
        "colab": {
          "base_uri": "https://localhost:8080/"
        },
        "id": "yg2biRHnjVu3",
        "outputId": "83aaacd5-f8d5-47c2-d577-89e53e4af5f2"
      },
      "execution_count": 18,
      "outputs": [
        {
          "output_type": "stream",
          "name": "stdout",
          "text": [
            "Train ==>   ❌ 0.3142159196054691 \t✅ 0.19485038274182323\n",
            "Test ==>   ❌ 0.29278489484982395 \t✅ 0.26666666666666666\n",
            "=================================================================\n",
            "Train ==>   ❌ 0.2791018655394333 \t✅ 0.34585942936673625\n",
            "Test ==>   ❌ 0.2748776149944767 \t✅ 0.38333333333333336\n",
            "=================================================================\n",
            "Train ==>   ❌ 0.26219715522692294 \t✅ 0.46346555323590816\n",
            "Test ==>   ❌ 0.2596749244374446 \t✅ 0.48333333333333334\n",
            "=================================================================\n",
            "Train ==>   ❌ 0.24781647066573653 \t✅ 0.546276965901183\n",
            "Test ==>   ❌ 0.24840022553007785 \t✅ 0.5361111111111111\n",
            "=================================================================\n",
            "Train ==>   ❌ 0.23466325439981464 \t✅ 0.6263048016701461\n",
            "Test ==>   ❌ 0.23671579595186173 \t✅ 0.5888888888888889\n",
            "=================================================================\n",
            "Train ==>   ❌ 0.223064106181715 \t✅ 0.6701461377870563\n",
            "Test ==>   ❌ 0.22730004636989787 \t✅ 0.6277777777777778\n",
            "=================================================================\n",
            "Train ==>   ❌ 0.21292496523456259 \t✅ 0.7118997912317327\n",
            "Test ==>   ❌ 0.21901312690925956 \t✅ 0.6611111111111111\n",
            "=================================================================\n",
            "Train ==>   ❌ 0.20281615992749064 \t✅ 0.7411273486430062\n",
            "Test ==>   ❌ 0.2120108813688005 \t✅ 0.6888888888888889\n",
            "=================================================================\n",
            "Train ==>   ❌ 0.1937607601198623 \t✅ 0.7703549060542797\n",
            "Test ==>   ❌ 0.20587656485059194 \t✅ 0.7083333333333334\n",
            "=================================================================\n",
            "Train ==>   ❌ 0.18550585986049187 \t✅ 0.7947112038970077\n",
            "Test ==>   ❌ 0.20019720738730645 \t✅ 0.7166666666666667\n",
            "=================================================================\n",
            "Train ==>   ❌ 0.17820490178807571 \t✅ 0.8086290883785665\n",
            "Test ==>   ❌ 0.19463147186939536 \t✅ 0.7472222222222222\n",
            "=================================================================\n",
            "Train ==>   ❌ 0.1716142549044339 \t✅ 0.8211551844119693\n",
            "Test ==>   ❌ 0.1894161196669082 \t✅ 0.7722222222222223\n",
            "=================================================================\n",
            "Train ==>   ❌ 0.16548890645736017 \t✅ 0.837160751565762\n",
            "Test ==>   ❌ 0.18492547488464262 \t✅ 0.775\n",
            "=================================================================\n",
            "Train ==>   ❌ 0.1599243212691721 \t✅ 0.8503827418232429\n",
            "Test ==>   ❌ 0.1809523824841332 \t✅ 0.7888888888888889\n",
            "=================================================================\n",
            "Train ==>   ❌ 0.15491843458875665 \t✅ 0.8656924147529576\n",
            "Test ==>   ❌ 0.17752701746658445 \t✅ 0.7972222222222223\n",
            "=================================================================\n",
            "Train ==>   ❌ 0.15044042006849936 \t✅ 0.8761308281141267\n",
            "Test ==>   ❌ 0.17436648303532945 \t✅ 0.8055555555555556\n",
            "=================================================================\n",
            "Train ==>   ❌ 0.1464354090516719 \t✅ 0.8823938761308281\n",
            "Test ==>   ❌ 0.17160435485527287 \t✅ 0.8138888888888889\n",
            "=================================================================\n",
            "Train ==>   ❌ 0.14271158058089445 \t✅ 0.8872651356993737\n",
            "Test ==>   ❌ 0.16927073540988388 \t✅ 0.8222222222222222\n",
            "=================================================================\n",
            "Train ==>   ❌ 0.13919126787002856 \t✅ 0.8921363952679193\n",
            "Test ==>   ❌ 0.16720674654781775 \t✅ 0.825\n",
            "=================================================================\n",
            "Train ==>   ❌ 0.1359060642874564 \t✅ 0.8970076548364648\n",
            "Test ==>   ❌ 0.16526602223176012 \t✅ 0.825\n",
            "=================================================================\n",
            "Train ==>   ❌ 0.1328755962669073 \t✅ 0.9011830201809325\n",
            "Test ==>   ❌ 0.16335196343342687 \t✅ 0.8277777777777777\n",
            "=================================================================\n",
            "Train ==>   ❌ 0.13006429417734994 \t✅ 0.9032707028531664\n",
            "Test ==>   ❌ 0.16149630354055133 \t✅ 0.8277777777777777\n",
            "=================================================================\n",
            "Train ==>   ❌ 0.12743318888041266 \t✅ 0.9081419624217119\n",
            "Test ==>   ❌ 0.15975476058478294 \t✅ 0.8333333333333334\n",
            "=================================================================\n",
            "Train ==>   ❌ 0.12490860105029489 \t✅ 0.9123173277661796\n",
            "Test ==>   ❌ 0.15813408747565397 \t✅ 0.8388888888888889\n",
            "=================================================================\n",
            "Train ==>   ❌ 0.12248483257434867 \t✅ 0.9164926931106472\n",
            "Test ==>   ❌ 0.1566957988535652 \t✅ 0.8361111111111111\n",
            "=================================================================\n",
            "Train ==>   ❌ 0.12021151450614259 \t✅ 0.919276270006959\n",
            "Test ==>   ❌ 0.1554751162157296 \t✅ 0.8416666666666667\n",
            "=================================================================\n",
            "Train ==>   ❌ 0.11800896770932537 \t✅ 0.9213639526791928\n",
            "Test ==>   ❌ 0.15423129617586034 \t✅ 0.85\n",
            "=================================================================\n",
            "Train ==>   ❌ 0.1158891690762118 \t✅ 0.9241475295755045\n",
            "Test ==>   ❌ 0.15299711813807426 \t✅ 0.85\n",
            "=================================================================\n",
            "Train ==>   ❌ 0.1138680506054201 \t✅ 0.9269311064718163\n",
            "Test ==>   ❌ 0.15175377413357108 \t✅ 0.85\n",
            "=================================================================\n",
            "Train ==>   ❌ 0.11191387095798325 \t✅ 0.9276270006958942\n",
            "Test ==>   ❌ 0.1505029327979747 \t✅ 0.8527777777777777\n",
            "=================================================================\n",
            "Train ==>   ❌ 0.10999691374436053 \t✅ 0.9290187891440501\n",
            "Test ==>   ❌ 0.14929096124268446 \t✅ 0.8527777777777777\n",
            "=================================================================\n",
            "Train ==>   ❌ 0.1080803183118078 \t✅ 0.9311064718162839\n",
            "Test ==>   ❌ 0.14821318226000788 \t✅ 0.8611111111111112\n",
            "=================================================================\n",
            "Train ==>   ❌ 0.10621698373642477 \t✅ 0.9331941544885177\n",
            "Test ==>   ❌ 0.14725092627916755 \t✅ 0.8611111111111112\n",
            "=================================================================\n",
            "Train ==>   ❌ 0.10443111215047872 \t✅ 0.9366736256089074\n",
            "Test ==>   ❌ 0.1463209177177333 \t✅ 0.8583333333333333\n",
            "=================================================================\n",
            "Train ==>   ❌ 0.10274102531336946 \t✅ 0.9394572025052192\n",
            "Test ==>   ❌ 0.14540418120061016 \t✅ 0.8583333333333333\n",
            "=================================================================\n",
            "Train ==>   ❌ 0.10114263761821542 \t✅ 0.942240779401531\n",
            "Test ==>   ❌ 0.1445487449525476 \t✅ 0.8583333333333333\n",
            "=================================================================\n",
            "Train ==>   ❌ 0.0996306898103477 \t✅ 0.942936673625609\n",
            "Test ==>   ❌ 0.14377166557483334 \t✅ 0.8611111111111112\n",
            "=================================================================\n",
            "Train ==>   ❌ 0.0982090827754059 \t✅ 0.9443284620737648\n",
            "Test ==>   ❌ 0.1430335738378257 \t✅ 0.8583333333333333\n",
            "=================================================================\n",
            "Train ==>   ❌ 0.09684672336290298 \t✅ 0.9457202505219207\n",
            "Test ==>   ❌ 0.14228748342347727 \t✅ 0.8583333333333333\n",
            "=================================================================\n",
            "Train ==>   ❌ 0.09550326976967333 \t✅ 0.9478079331941545\n",
            "Test ==>   ❌ 0.14149486310032855 \t✅ 0.8611111111111112\n",
            "=================================================================\n",
            "Train ==>   ❌ 0.09414090933618656 \t✅ 0.9512874043145442\n",
            "Test ==>   ❌ 0.14065794965221315 \t✅ 0.8583333333333333\n",
            "=================================================================\n",
            "Train ==>   ❌ 0.09276558409204029 \t✅ 0.9526791927627001\n",
            "Test ==>   ❌ 0.1399069253683261 \t✅ 0.8638888888888889\n",
            "=================================================================\n",
            "Train ==>   ❌ 0.09141646563250663 \t✅ 0.9554627696590118\n",
            "Test ==>   ❌ 0.13934197336206572 \t✅ 0.8638888888888889\n",
            "=================================================================\n",
            "Train ==>   ❌ 0.0901369325688499 \t✅ 0.9589422407794015\n",
            "Test ==>   ❌ 0.1388542707537406 \t✅ 0.8638888888888889\n",
            "=================================================================\n",
            "Train ==>   ❌ 0.0889394610221529 \t✅ 0.9596381350034795\n",
            "Test ==>   ❌ 0.13837054320664702 \t✅ 0.8638888888888889\n",
            "=================================================================\n",
            "Train ==>   ❌ 0.08778998226860707 \t✅ 0.9603340292275574\n",
            "Test ==>   ❌ 0.1378509727326191 \t✅ 0.8666666666666667\n",
            "=================================================================\n",
            "Train ==>   ❌ 0.08664919121634493 \t✅ 0.9617258176757133\n",
            "Test ==>   ❌ 0.1372267603283318 \t✅ 0.8694444444444445\n",
            "=================================================================\n",
            "Train ==>   ❌ 0.08545020893813593 \t✅ 0.9624217118997912\n",
            "Test ==>   ❌ 0.1365961221939524 \t✅ 0.875\n",
            "=================================================================\n",
            "Train ==>   ❌ 0.08415761019062155 \t✅ 0.9638135003479471\n",
            "Test ==>   ❌ 0.13621035138601595 \t✅ 0.875\n",
            "=================================================================\n",
            "Train ==>   ❌ 0.08303583676029085 \t✅ 0.9638135003479471\n",
            "Test ==>   ❌ 0.1357836078303909 \t✅ 0.875\n",
            "=================================================================\n",
            "Train ==>   ❌ 0.08200725825741147 \t✅ 0.965205288796103\n",
            "Test ==>   ❌ 0.13535260455736908 \t✅ 0.875\n",
            "=================================================================\n",
            "Train ==>   ❌ 0.08103935820834887 \t✅ 0.965205288796103\n",
            "Test ==>   ❌ 0.13491889952902628 \t✅ 0.875\n",
            "=================================================================\n",
            "Train ==>   ❌ 0.08011911960850523 \t✅ 0.9659011830201809\n",
            "Test ==>   ❌ 0.13449106081981604 \t✅ 0.875\n",
            "=================================================================\n",
            "Train ==>   ❌ 0.07923185890069322 \t✅ 0.9679888656924147\n",
            "Test ==>   ❌ 0.13407515242793658 \t✅ 0.875\n",
            "=================================================================\n",
            "Train ==>   ❌ 0.07836706806548181 \t✅ 0.9686847599164927\n",
            "Test ==>   ❌ 0.13366843852348542 \t✅ 0.875\n",
            "=================================================================\n",
            "Train ==>   ❌ 0.07751928839779093 \t✅ 0.9693806541405706\n",
            "Test ==>   ❌ 0.13325821407119492 \t✅ 0.8805555555555555\n",
            "=================================================================\n",
            "Train ==>   ❌ 0.07668164964405784 \t✅ 0.9714683368128044\n",
            "Test ==>   ❌ 0.13283598030197996 \t✅ 0.8805555555555555\n",
            "=================================================================\n",
            "Train ==>   ❌ 0.07584046789533265 \t✅ 0.9721642310368824\n",
            "Test ==>   ❌ 0.13239868978968464 \t✅ 0.8805555555555555\n",
            "=================================================================\n",
            "Train ==>   ❌ 0.0749886238874479 \t✅ 0.9728601252609603\n",
            "Test ==>   ❌ 0.13194635959924897 \t✅ 0.8805555555555555\n",
            "=================================================================\n",
            "Train ==>   ❌ 0.07414262338272753 \t✅ 0.9742519137091162\n",
            "Test ==>   ❌ 0.13149167644979862 \t✅ 0.8805555555555555\n",
            "=================================================================\n",
            "Train ==>   ❌ 0.07330884091336712 \t✅ 0.9749478079331941\n",
            "Test ==>   ❌ 0.13105289751972332 \t✅ 0.8833333333333333\n",
            "=================================================================\n",
            "Train ==>   ❌ 0.07246066307243794 \t✅ 0.9770354906054279\n",
            "Test ==>   ❌ 0.1306498366720818 \t✅ 0.8833333333333333\n",
            "=================================================================\n",
            "Train ==>   ❌ 0.07161657186431156 \t✅ 0.9791231732776617\n",
            "Test ==>   ❌ 0.1302977268537246 \t✅ 0.8861111111111111\n",
            "=================================================================\n",
            "Train ==>   ❌ 0.0708227810610659 \t✅ 0.9798190675017397\n",
            "Test ==>   ❌ 0.12997354500150546 \t✅ 0.8888888888888888\n",
            "=================================================================\n",
            "Train ==>   ❌ 0.07004901049488388 \t✅ 0.9798190675017397\n",
            "Test ==>   ❌ 0.12965597813557841 \t✅ 0.8861111111111111\n",
            "=================================================================\n",
            "Train ==>   ❌ 0.06928143792101395 \t✅ 0.9798190675017397\n",
            "Test ==>   ❌ 0.12934692756621324 \t✅ 0.8888888888888888\n",
            "=================================================================\n",
            "Train ==>   ❌ 0.06852486403770887 \t✅ 0.9805149617258176\n",
            "Test ==>   ❌ 0.12906410587185105 \t✅ 0.8888888888888888\n",
            "=================================================================\n",
            "Train ==>   ❌ 0.06779444751587083 \t✅ 0.9812108559498957\n",
            "Test ==>   ❌ 0.12880627997550417 \t✅ 0.8888888888888888\n",
            "=================================================================\n",
            "Train ==>   ❌ 0.06708838572813687 \t✅ 0.9812108559498957\n",
            "Test ==>   ❌ 0.12856203131158284 \t✅ 0.8916666666666667\n",
            "=================================================================\n",
            "Train ==>   ❌ 0.06640342539533428 \t✅ 0.9812108559498957\n",
            "Test ==>   ❌ 0.12832317981565497 \t✅ 0.8916666666666667\n",
            "=================================================================\n",
            "Train ==>   ❌ 0.06572964797264072 \t✅ 0.9812108559498957\n",
            "Test ==>   ❌ 0.12808993658458934 \t✅ 0.8888888888888888\n",
            "=================================================================\n",
            "Train ==>   ❌ 0.06505406913595979 \t✅ 0.9819067501739736\n",
            "Test ==>   ❌ 0.12786332224340427 \t✅ 0.8916666666666667\n",
            "=================================================================\n",
            "Train ==>   ❌ 0.06438139724014617 \t✅ 0.9839944328462074\n",
            "Test ==>   ❌ 0.12763719154833855 \t✅ 0.8916666666666667\n",
            "=================================================================\n",
            "Train ==>   ❌ 0.06372911957615847 \t✅ 0.9846903270702854\n",
            "Test ==>   ❌ 0.127420232276213 \t✅ 0.8916666666666667\n",
            "=================================================================\n",
            "Train ==>   ❌ 0.06308263945315641 \t✅ 0.9846903270702854\n",
            "Test ==>   ❌ 0.12723092159328672 \t✅ 0.8916666666666667\n",
            "=================================================================\n",
            "Train ==>   ❌ 0.06241896641494441 \t✅ 0.9846903270702854\n",
            "Test ==>   ❌ 0.12707973927980892 \t✅ 0.8916666666666667\n",
            "=================================================================\n",
            "Train ==>   ❌ 0.061763634759267036 \t✅ 0.9846903270702854\n",
            "Test ==>   ❌ 0.12696856370256845 \t✅ 0.8916666666666667\n",
            "=================================================================\n",
            "Train ==>   ❌ 0.061138018113559435 \t✅ 0.9846903270702854\n",
            "Test ==>   ❌ 0.1269057678920698 \t✅ 0.8916666666666667\n",
            "=================================================================\n",
            "Train ==>   ❌ 0.06051785293806578 \t✅ 0.9853862212943633\n",
            "Test ==>   ❌ 0.12687422272092952 \t✅ 0.8944444444444445\n",
            "=================================================================\n",
            "Train ==>   ❌ 0.05988525879118947 \t✅ 0.9860821155184412\n",
            "Test ==>   ❌ 0.12675376130063182 \t✅ 0.8944444444444445\n",
            "=================================================================\n"
          ]
        }
      ]
    },
    {
      "cell_type": "code",
      "source": [
        "import cv2"
      ],
      "metadata": {
        "id": "MJtRasxTkB_W"
      },
      "execution_count": 25,
      "outputs": []
    },
    {
      "cell_type": "code",
      "source": [
        "image = cv2.imread('4.jpg')\n",
        "image.shape"
      ],
      "metadata": {
        "colab": {
          "base_uri": "https://localhost:8080/"
        },
        "id": "vPNiK7t3hnSR",
        "outputId": "6ac63191-2764-4409-9009-02b2899d7c6c"
      },
      "execution_count": 32,
      "outputs": [
        {
          "output_type": "execute_result",
          "data": {
            "text/plain": [
              "(8, 8, 3)"
            ]
          },
          "metadata": {},
          "execution_count": 32
        }
      ]
    },
    {
      "cell_type": "code",
      "source": [
        "image = cv2.cvtColor(image, cv2.COLOR_BGR2GRAY)\n",
        "image.shape"
      ],
      "metadata": {
        "colab": {
          "base_uri": "https://localhost:8080/"
        },
        "id": "6uQ4Tg76iCUa",
        "outputId": "830b77a1-b4e6-46ff-df9d-acef441ad882"
      },
      "execution_count": 33,
      "outputs": [
        {
          "output_type": "execute_result",
          "data": {
            "text/plain": [
              "(8, 8)"
            ]
          },
          "metadata": {},
          "execution_count": 33
        }
      ]
    },
    {
      "cell_type": "code",
      "source": [
        "image = image.reshape(64, 1)\n",
        "image.shape"
      ],
      "metadata": {
        "colab": {
          "base_uri": "https://localhost:8080/"
        },
        "id": "OXcZkexWihdd",
        "outputId": "3b988dd1-fbc0-4c17-bf6b-79c22efdb91e"
      },
      "execution_count": 34,
      "outputs": [
        {
          "output_type": "execute_result",
          "data": {
            "text/plain": [
              "(64, 1)"
            ]
          },
          "metadata": {},
          "execution_count": 34
        }
      ]
    },
    {
      "cell_type": "code",
      "source": [
        "x = image\n",
        "\n",
        "# >>>>> forward >>>>>\n",
        "# layer 1\n",
        "out1 = sigmoid(x.T @ W1 + B1)\n",
        "# layer 2\n",
        "out2 = sigmoid(out1 @ W2 + B2)\n",
        "# layer 3\n",
        "out3 = softmax(out2 @ W3 + B3)\n",
        "\n",
        "y_pred = out3\n",
        "\n",
        "print(np.argmax(y_pred))"
      ],
      "metadata": {
        "colab": {
          "base_uri": "https://localhost:8080/"
        },
        "id": "BWAcZzMvisoU",
        "outputId": "54923525-8d1f-47de-fded-6bf9c9976af2"
      },
      "execution_count": 35,
      "outputs": [
        {
          "output_type": "stream",
          "name": "stdout",
          "text": [
            "4\n"
          ]
        },
        {
          "output_type": "stream",
          "name": "stderr",
          "text": [
            "<ipython-input-15-6c9747543e2e>:2: RuntimeWarning: overflow encountered in exp\n",
            "  return 1 / (1 + np.exp(-X))\n"
          ]
        }
      ]
    }
  ]
}